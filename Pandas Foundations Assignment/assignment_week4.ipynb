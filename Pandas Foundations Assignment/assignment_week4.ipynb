{
 "cells": [
  {
   "cell_type": "code",
   "execution_count": 1,
   "id": "3e2d5e8b-8e6e-48f9-a22d-769a5ef23573",
   "metadata": {},
   "outputs": [],
   "source": [
    "import pandas as pd\n",
    "import numpy as np"
   ]
  },
  {
   "cell_type": "markdown",
   "id": "a766dd90-ce8c-4c68-9aa0-7cf20501a360",
   "metadata": {},
   "source": [
    "### Exercise 1: Creating Series and DataFrames\n",
    "\n",
    "**Part 1: Create a Pandas Series from the following list:**\n",
    "\n",
    "fruits = ['Apple', 'Banana', 'Cherry', 'Date', 'Elderberry']\n",
    "\n",
    "Set the index to start from 1.\n",
    "\n",
    "Name the series \"Fruit Names\"."
   ]
  },
  {
   "cell_type": "code",
   "execution_count": 2,
   "id": "ac4a1648-027a-4602-9304-536c8842384c",
   "metadata": {},
   "outputs": [
    {
     "name": "stdout",
     "output_type": "stream",
     "text": [
      "1         Apple\n",
      "2        Banana\n",
      "3        Cherry\n",
      "4          Date\n",
      "5    Elderberry\n",
      "Name: Fruit Names, dtype: object\n"
     ]
    }
   ],
   "source": [
    "import pandas as pd\n",
    "\n",
    "fruits = ['Apple', 'Banana', 'Cherry', 'Date', 'Elderberry']\n",
    "\n",
    "fruit_series = pd.Series(fruits, index=range(1, len(fruits) + 1), name=\"Fruit Names\")\n",
    "\n",
    "print(fruit_series)"
   ]
  },
  {
   "cell_type": "markdown",
   "id": "aa016720-8917-4b99-b9d3-1fd061390c40",
   "metadata": {},
   "source": [
    "**Part 2: Create a Pandas DataFrame using the following dictionary:**\n",
    "\n",
    "data = {\n",
    "    'Name': ['Alice', 'Bob', 'Charlie', 'David', 'Eva'], \n",
    "    \n",
    "    'Age': [25, 30, 35, 40, 22],\n",
    "    \n",
    "    'City': ['New York', 'Los Angeles', 'Chicago', 'Houston', 'Phoenix']\n",
    "    \n",
    "}\n",
    "\n",
    "Display the first three rows using .head().\n",
    "\n"
   ]
  },
  {
   "cell_type": "code",
   "execution_count": 16,
   "id": "28bac7cd-e6b5-47b5-a7d5-30ae15cc8235",
   "metadata": {},
   "outputs": [
    {
     "data": {
      "text/html": [
       "<div>\n",
       "<style scoped>\n",
       "    .dataframe tbody tr th:only-of-type {\n",
       "        vertical-align: middle;\n",
       "    }\n",
       "\n",
       "    .dataframe tbody tr th {\n",
       "        vertical-align: top;\n",
       "    }\n",
       "\n",
       "    .dataframe thead th {\n",
       "        text-align: right;\n",
       "    }\n",
       "</style>\n",
       "<table border=\"1\" class=\"dataframe\">\n",
       "  <thead>\n",
       "    <tr style=\"text-align: right;\">\n",
       "      <th></th>\n",
       "      <th>Name</th>\n",
       "      <th>Age</th>\n",
       "      <th>City</th>\n",
       "    </tr>\n",
       "  </thead>\n",
       "  <tbody>\n",
       "    <tr>\n",
       "      <th>0</th>\n",
       "      <td>Alice</td>\n",
       "      <td>25</td>\n",
       "      <td>New York</td>\n",
       "    </tr>\n",
       "    <tr>\n",
       "      <th>1</th>\n",
       "      <td>Bob</td>\n",
       "      <td>30</td>\n",
       "      <td>Los Angeles</td>\n",
       "    </tr>\n",
       "    <tr>\n",
       "      <th>2</th>\n",
       "      <td>Charlie</td>\n",
       "      <td>35</td>\n",
       "      <td>Chicago</td>\n",
       "    </tr>\n",
       "  </tbody>\n",
       "</table>\n",
       "</div>"
      ],
      "text/plain": [
       "      Name  Age         City\n",
       "0    Alice   25     New York\n",
       "1      Bob   30  Los Angeles\n",
       "2  Charlie   35      Chicago"
      ]
     },
     "execution_count": 16,
     "metadata": {},
     "output_type": "execute_result"
    }
   ],
   "source": [
    "import pandas as pd\n",
    "\n",
    "data = {\n",
    "    'Name': ['Alice', 'Bob', 'Charlie', 'David', 'Eva'],\n",
    "    'Age': [25, 30, 35, 40, 22],\n",
    "    'City': ['New York', 'Los Angeles', 'Chicago', 'Houston', 'Phoenix']\n",
    "}\n",
    "\n",
    "df = pd.DataFrame(data)\n",
    "\n",
    "df.head(3)"
   ]
  },
  {
   "cell_type": "markdown",
   "id": "ee383c0f-80cd-48b1-bf94-c44af814a255",
   "metadata": {},
   "source": [
    "### Exercise 2: Modifying DataFrames\n",
    "\n",
    "Using the DataFrame you created in Exercise 1, perform the following tasks:\n",
    "\n",
    "Add a new column named \"Score\" with the following values: [85, 90, 88, 92, 87].\n",
    "\n",
    "Drop the \"City\" column from the DataFrame.\n",
    "\n",
    "Print the updated DataFrame.\n",
    "\n",
    "Use .shape to display the number of rows and columns in the modified DataFrame."
   ]
  },
  {
   "cell_type": "code",
   "execution_count": 53,
   "id": "0c643d7a-1163-49dd-9db7-1abf13cadfe4",
   "metadata": {},
   "outputs": [
    {
     "name": "stdout",
     "output_type": "stream",
     "text": [
      "Updated DataFrame:\n",
      "      Name  Age  Score\n",
      "0    Alice   25     85\n",
      "1      Bob   30     90\n",
      "2  Charlie   35     88\n",
      "3    David   40     92\n",
      "4      Eva   22     87\n"
     ]
    },
    {
     "data": {
      "text/plain": [
       "(5, 3)"
      ]
     },
     "execution_count": 53,
     "metadata": {},
     "output_type": "execute_result"
    }
   ],
   "source": [
    "import pandas as pd\n",
    "\n",
    "df = pd.DataFrame(data)\n",
    "\n",
    "df['Score'] = [85, 90, 88, 92, 87]\n",
    "\n",
    "df = df.drop('City', axis = 1) # Can also use the columns argument --> df = df.drop(columns='City')\n",
    "\n",
    "print(\"Updated DataFrame:\")\n",
    "print(df)\n",
    "\n",
    "df.shape"
   ]
  },
  {
   "cell_type": "markdown",
   "id": "c6b6acbc-6046-419f-b794-74a5054cda09",
   "metadata": {},
   "source": [
    "### Exercise 3: DataFrame Properties and Descriptive Statistics\n",
    "\n",
    "For the modified DataFrame from Exercise 2:\n",
    "\n",
    "Use .columns to display the column names.\n",
    "\n",
    "Use .index to display the index range.\n",
    "\n",
    "Use .describe() to get the summary statistics of the numerical columns.\n",
    "\n",
    "Use value_counts() on the \"Score\" column to determine how often each score appears.\n",
    "\n"
   ]
  },
  {
   "cell_type": "code",
   "execution_count": 49,
   "id": "506daecb-b314-4bc5-a838-607cc0f72cff",
   "metadata": {},
   "outputs": [
    {
     "name": "stdout",
     "output_type": "stream",
     "text": [
      "Index(['Name', 'Age', 'Score'], dtype='object')\n",
      "RangeIndex(start=0, stop=5, step=1)\n"
     ]
    },
    {
     "data": {
      "text/plain": [
       "Score\n",
       "85    1\n",
       "90    1\n",
       "88    1\n",
       "92    1\n",
       "87    1\n",
       "Name: count, dtype: int64"
      ]
     },
     "execution_count": 49,
     "metadata": {},
     "output_type": "execute_result"
    }
   ],
   "source": [
    "print(df.columns)\n",
    "\n",
    "print(df.index)\n",
    "\n",
    "df.describe()\n",
    "\n",
    "df[\"Score\"].value_counts()"
   ]
  },
  {
   "cell_type": "markdown",
   "id": "f8eb1fca-1751-4dc5-85bd-7d089cc9cfec",
   "metadata": {},
   "source": [
    "### Exercise 4: Indexing and Sorting\n",
    "\n",
    "Recreate the following DataFrame:\n",
    "\n",
    "   Name  Age  Score\n",
    "0  Alice   25     85\n",
    "1    Bob   30     90\n",
    "2 Charlie   35     88\n",
    "3  David   40     92\n",
    "4    Eva   22     87\n",
    "\n",
    "Sort the DataFrame by the \"Age\" column in descending order.\n",
    "\n",
    "Sort the DataFrame by the index in ascending order.\n",
    "\n",
    "Select and display the row corresponding to \"Charlie\" using indexing.\n",
    "\n"
   ]
  },
  {
   "cell_type": "code",
   "execution_count": 64,
   "id": "c259046f-e30c-4ad2-9adc-a8657b1d1d21",
   "metadata": {},
   "outputs": [
    {
     "data": {
      "text/html": [
       "<div>\n",
       "<style scoped>\n",
       "    .dataframe tbody tr th:only-of-type {\n",
       "        vertical-align: middle;\n",
       "    }\n",
       "\n",
       "    .dataframe tbody tr th {\n",
       "        vertical-align: top;\n",
       "    }\n",
       "\n",
       "    .dataframe thead th {\n",
       "        text-align: right;\n",
       "    }\n",
       "</style>\n",
       "<table border=\"1\" class=\"dataframe\">\n",
       "  <thead>\n",
       "    <tr style=\"text-align: right;\">\n",
       "      <th></th>\n",
       "      <th>Name</th>\n",
       "      <th>Age</th>\n",
       "      <th>Score</th>\n",
       "    </tr>\n",
       "  </thead>\n",
       "  <tbody>\n",
       "    <tr>\n",
       "      <th>2</th>\n",
       "      <td>Charlie</td>\n",
       "      <td>35</td>\n",
       "      <td>88</td>\n",
       "    </tr>\n",
       "  </tbody>\n",
       "</table>\n",
       "</div>"
      ],
      "text/plain": [
       "      Name  Age  Score\n",
       "2  Charlie   35     88"
      ]
     },
     "execution_count": 64,
     "metadata": {},
     "output_type": "execute_result"
    }
   ],
   "source": [
    "import pandas as pd\n",
    "\n",
    "data = {\n",
    "    'Name': ['Alice', 'Bob', 'Charlie', 'David', 'Eva'],\n",
    "    'Age': [25, 30, 35, 40, 22],\n",
    "    'Score': [85, 90, 88, 92, 87]\n",
    "}\n",
    "\n",
    "df = pd.DataFrame(data)\n",
    "\n",
    "df = df.sort_values(by=\"Age\", ascending=False)\n",
    "\n",
    "df = df.sort_index()\n",
    "\n",
    "df.loc[df[\"Name\"] == \"Charlie\"]"
   ]
  },
  {
   "cell_type": "markdown",
   "id": "46e94651-b1af-4ef0-b278-921698e0d1d4",
   "metadata": {},
   "source": [
    "### Exercise 5: DataFrame Math\n",
    "\n",
    "Create two DataFrames using the following data:\n",
    "\n",
    "df1 = pd.DataFrame({\n",
    "    'Product': ['Laptop', 'Tablet', 'Smartphone'],\n",
    "    'Price': [1000, 500, 800]\n",
    "})\n",
    "\n",
    "df2 = pd.DataFrame({\n",
    "    'Product': ['Tablet', 'Smartwatch', 'Smartphone'],\n",
    "    'Stock': [50, 75, 30]\n",
    "})\n",
    "\n",
    "Perform the following tasks:\n",
    "\n",
    "Adjust the Price column on df1 to be increased by 10%\n",
    "\n",
    "Reduce the stock column on df2 by 25"
   ]
  },
  {
   "cell_type": "code",
   "execution_count": 73,
   "id": "56050368-1e86-40a7-ae5c-1565aba0bd6d",
   "metadata": {},
   "outputs": [
    {
     "name": "stdout",
     "output_type": "stream",
     "text": [
      "Updated df1:\n",
      "      Product   Price\n",
      "0      Laptop  1100.0\n",
      "1      Tablet   550.0\n",
      "2  Smartphone   880.0\n",
      "\n",
      "Updated df2:\n",
      "      Product  Stock\n",
      "0      Tablet     25\n",
      "1  Smartwatch     50\n",
      "2  Smartphone      5\n"
     ]
    }
   ],
   "source": [
    "import pandas as pd\n",
    "\n",
    "df1 = pd.DataFrame({\n",
    "    'Product': ['Laptop', 'Tablet', 'Smartphone'],\n",
    "    'Price': [1000, 500, 800]\n",
    "})\n",
    "\n",
    "df2 = pd.DataFrame({\n",
    "    'Product': ['Tablet', 'Smartwatch', 'Smartphone'],\n",
    "    'Stock': [50, 75, 30]\n",
    "})\n",
    "\n",
    "df1[\"Price\"] = df1[\"Price\"] * 1.10\n",
    "\n",
    "df2[\"Stock\"] = df2[\"Stock\"] - 25\n",
    "\n",
    "print(\"Updated df1:\")\n",
    "print(df1)\n",
    "\n",
    "print(\"\\nUpdated df2:\")\n",
    "print(df2)"
   ]
  },
  {
   "cell_type": "code",
   "execution_count": null,
   "id": "4edac653-0dda-4434-9ca2-afc370df6a79",
   "metadata": {},
   "outputs": [],
   "source": []
  }
 ],
 "metadata": {
  "kernelspec": {
   "display_name": "Python 3 (ipykernel)",
   "language": "python",
   "name": "python3"
  },
  "language_info": {
   "codemirror_mode": {
    "name": "ipython",
    "version": 3
   },
   "file_extension": ".py",
   "mimetype": "text/x-python",
   "name": "python",
   "nbconvert_exporter": "python",
   "pygments_lexer": "ipython3",
   "version": "3.12.5"
  }
 },
 "nbformat": 4,
 "nbformat_minor": 5
}
