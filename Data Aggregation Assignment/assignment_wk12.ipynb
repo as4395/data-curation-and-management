{
 "cells": [
  {
   "cell_type": "code",
   "execution_count": 5,
   "id": "bc128a97-85f3-498c-bd86-f5c55f8e02ba",
   "metadata": {},
   "outputs": [
    {
     "name": "stdout",
     "output_type": "stream",
     "text": [
      "Path to dataset files: /Users/abhiramsingireddy/.cache/kagglehub/datasets/imdevskp/corona-virus-report/versions/166\n"
     ]
    }
   ],
   "source": [
    "import kagglehub\n",
    "\n",
    "# Download latest version\n",
    "path = kagglehub.dataset_download(\"imdevskp/corona-virus-report\")\n",
    "\n",
    "print(\"Path to dataset files:\", path)"
   ]
  },
  {
   "cell_type": "code",
   "execution_count": 6,
   "id": "bed55064-dbc5-488f-bdf9-11138e2ad8d8",
   "metadata": {},
   "outputs": [],
   "source": [
    "import pandas as pd\n",
    "import numpy as np\n",
    "import matplotlib.pyplot as plt\n",
    "import seaborn as sns\n",
    "import pathlib"
   ]
  },
  {
   "cell_type": "code",
   "execution_count": 14,
   "id": "08e4ecb3-a908-42af-8bbe-bb623842197d",
   "metadata": {},
   "outputs": [],
   "source": [
    "covid_dir = pathlib.Path(r\"/Users/abhiramsingireddy/.cache/kagglehub/datasets/imdevskp/corona-virus-report/versions/166\")\n",
    "covid_data = covid_dir / \"covid_19_clean_complete.csv\"\n",
    "covid_df = pd.read_csv(covid_data)"
   ]
  },
  {
   "cell_type": "markdown",
   "id": "4f3a9470-d0df-4466-b242-9a8341eac1cc",
   "metadata": {},
   "source": [
    "## Question 1 (1 point):  Create a Multi-indexed DataFrame.\n",
    "\n",
    "* Make the WHO Region the outer index and Country/Region the inner index\n",
    "* Sort the index\n",
    "* Save the new DataFrame as a new DataFrame"
   ]
  },
  {
   "cell_type": "code",
   "execution_count": 22,
   "id": "5217b828-68e2-43ab-9da1-eef6cbbc237b",
   "metadata": {},
   "outputs": [],
   "source": [
    "covid_mi = covid_df.set_index(['WHO Region', 'Country/Region'])"
   ]
  },
  {
   "cell_type": "code",
   "execution_count": 23,
   "id": "96ee1655-b1d1-455d-a070-dd61a6c9266b",
   "metadata": {},
   "outputs": [],
   "source": [
    "covid_mi = covid_mi.sort_index()"
   ]
  },
  {
   "cell_type": "code",
   "execution_count": 21,
   "id": "edc7f8b3-e063-4c27-9aa2-7960d084b5bb",
   "metadata": {},
   "outputs": [
    {
     "data": {
      "text/html": [
       "<div>\n",
       "<style scoped>\n",
       "    .dataframe tbody tr th:only-of-type {\n",
       "        vertical-align: middle;\n",
       "    }\n",
       "\n",
       "    .dataframe tbody tr th {\n",
       "        vertical-align: top;\n",
       "    }\n",
       "\n",
       "    .dataframe thead th {\n",
       "        text-align: right;\n",
       "    }\n",
       "</style>\n",
       "<table border=\"1\" class=\"dataframe\">\n",
       "  <thead>\n",
       "    <tr style=\"text-align: right;\">\n",
       "      <th></th>\n",
       "      <th></th>\n",
       "      <th>Province/State</th>\n",
       "      <th>Lat</th>\n",
       "      <th>Long</th>\n",
       "      <th>Date</th>\n",
       "      <th>Confirmed</th>\n",
       "      <th>Deaths</th>\n",
       "      <th>Recovered</th>\n",
       "      <th>Active</th>\n",
       "    </tr>\n",
       "    <tr>\n",
       "      <th>WHO Region</th>\n",
       "      <th>Country/Region</th>\n",
       "      <th></th>\n",
       "      <th></th>\n",
       "      <th></th>\n",
       "      <th></th>\n",
       "      <th></th>\n",
       "      <th></th>\n",
       "      <th></th>\n",
       "      <th></th>\n",
       "    </tr>\n",
       "  </thead>\n",
       "  <tbody>\n",
       "    <tr>\n",
       "      <th rowspan=\"5\" valign=\"top\">Africa</th>\n",
       "      <th>Algeria</th>\n",
       "      <td>NaN</td>\n",
       "      <td>28.0339</td>\n",
       "      <td>1.6596</td>\n",
       "      <td>2020-01-22</td>\n",
       "      <td>0</td>\n",
       "      <td>0</td>\n",
       "      <td>0</td>\n",
       "      <td>0</td>\n",
       "    </tr>\n",
       "    <tr>\n",
       "      <th>Algeria</th>\n",
       "      <td>NaN</td>\n",
       "      <td>28.0339</td>\n",
       "      <td>1.6596</td>\n",
       "      <td>2020-01-23</td>\n",
       "      <td>0</td>\n",
       "      <td>0</td>\n",
       "      <td>0</td>\n",
       "      <td>0</td>\n",
       "    </tr>\n",
       "    <tr>\n",
       "      <th>Algeria</th>\n",
       "      <td>NaN</td>\n",
       "      <td>28.0339</td>\n",
       "      <td>1.6596</td>\n",
       "      <td>2020-01-24</td>\n",
       "      <td>0</td>\n",
       "      <td>0</td>\n",
       "      <td>0</td>\n",
       "      <td>0</td>\n",
       "    </tr>\n",
       "    <tr>\n",
       "      <th>Algeria</th>\n",
       "      <td>NaN</td>\n",
       "      <td>28.0339</td>\n",
       "      <td>1.6596</td>\n",
       "      <td>2020-01-25</td>\n",
       "      <td>0</td>\n",
       "      <td>0</td>\n",
       "      <td>0</td>\n",
       "      <td>0</td>\n",
       "    </tr>\n",
       "    <tr>\n",
       "      <th>Algeria</th>\n",
       "      <td>NaN</td>\n",
       "      <td>28.0339</td>\n",
       "      <td>1.6596</td>\n",
       "      <td>2020-01-26</td>\n",
       "      <td>0</td>\n",
       "      <td>0</td>\n",
       "      <td>0</td>\n",
       "      <td>0</td>\n",
       "    </tr>\n",
       "  </tbody>\n",
       "</table>\n",
       "</div>"
      ],
      "text/plain": [
       "                          Province/State      Lat    Long        Date  \\\n",
       "WHO Region Country/Region                                               \n",
       "Africa     Algeria                   NaN  28.0339  1.6596  2020-01-22   \n",
       "           Algeria                   NaN  28.0339  1.6596  2020-01-23   \n",
       "           Algeria                   NaN  28.0339  1.6596  2020-01-24   \n",
       "           Algeria                   NaN  28.0339  1.6596  2020-01-25   \n",
       "           Algeria                   NaN  28.0339  1.6596  2020-01-26   \n",
       "\n",
       "                           Confirmed  Deaths  Recovered  Active  \n",
       "WHO Region Country/Region                                        \n",
       "Africa     Algeria                 0       0          0       0  \n",
       "           Algeria                 0       0          0       0  \n",
       "           Algeria                 0       0          0       0  \n",
       "           Algeria                 0       0          0       0  \n",
       "           Algeria                 0       0          0       0  "
      ]
     },
     "execution_count": 21,
     "metadata": {},
     "output_type": "execute_result"
    }
   ],
   "source": [
    "covid_mi.head()"
   ]
  },
  {
   "cell_type": "markdown",
   "id": "abef59dd-bcb5-4c46-86bf-7a426758765e",
   "metadata": {},
   "source": [
    "## Question 2 (2 Points): Perform the following:\n",
    "\n",
    "1. From the original DataFrame, using an aggregation function, identify the last date in the Date column\n",
    "2. create a subset of the DataFrame that is a slice based on the following:\n",
    "    1. The WHO Region will be a slice of locations from the Americas to Europe\n",
    "    2. The Country/Region will be a slice of locations from the US to the United Kindgom\n",
    "    3. Include only the Date, Active, and Province/State Columns\n",
    "3. Using the subset DataFrame created in step 2:\n",
    "    1. Filter the data to only look at the last Date (as found from step 1 of this question) and \n",
    "    2. Filter to only include Province/State values that are NaN\n",
    "    3. Using the 'Active' column:\n",
    "       1. Rank the results - highest active case count will be Ranked 1.\n",
    "       2. Ensure the rank results are sorted in ascending order"
   ]
  },
  {
   "cell_type": "code",
   "execution_count": 24,
   "id": "c04e237b-1e8f-44fb-ba21-09e6ef8e786b",
   "metadata": {},
   "outputs": [
    {
     "name": "stdout",
     "output_type": "stream",
     "text": [
      "Last date in dataset: 2020-07-27\n"
     ]
    }
   ],
   "source": [
    "last_date = covid_df['Date'].max()\n",
    "print(\"Last date in dataset:\", last_date)"
   ]
  },
  {
   "cell_type": "code",
   "execution_count": 25,
   "id": "5b8bc551-915a-43c2-b137-276e258d1711",
   "metadata": {},
   "outputs": [],
   "source": [
    "covid_mi = covid_df.set_index(['WHO Region', 'Country/Region']).sort_index()"
   ]
  },
  {
   "cell_type": "code",
   "execution_count": 27,
   "id": "9007de5e-972b-4640-ad63-f9d617ffad0c",
   "metadata": {},
   "outputs": [],
   "source": [
    "subset_df = covid_mi.loc[(slice('Americas', 'Europe'), slice('US', 'United Kingdom')), ['Date', 'Active', 'Province/State']]"
   ]
  },
  {
   "cell_type": "code",
   "execution_count": 32,
   "id": "a70fdd86-bdd7-4f69-9044-c7cbfca2b621",
   "metadata": {},
   "outputs": [],
   "source": [
    "last_date = covid_df['Date'].max()"
   ]
  },
  {
   "cell_type": "code",
   "execution_count": 33,
   "id": "54293275-0614-4090-a71f-86e171859009",
   "metadata": {},
   "outputs": [],
   "source": [
    "filtered_df = subset_df.reset_index()\n",
    "filtered_df = filtered_df[(filtered_df['Date'] == last_date) & (filtered_df['Province/State'].isna())]"
   ]
  },
  {
   "cell_type": "code",
   "execution_count": 34,
   "id": "cff2750e-86ed-469e-9cd1-d210b9349014",
   "metadata": {},
   "outputs": [],
   "source": [
    "filtered_df['Rank'] = filtered_df['Active'].rank(ascending=False, method='min')"
   ]
  },
  {
   "cell_type": "code",
   "execution_count": 45,
   "id": "d26529ba-fa72-43d7-865e-63616760120e",
   "metadata": {},
   "outputs": [],
   "source": [
    "ranked_df = filtered_df.sort_values('Rank')"
   ]
  },
  {
   "cell_type": "code",
   "execution_count": 46,
   "id": "2e1d7ed7-1730-499a-a9c8-0037ab34fd63",
   "metadata": {},
   "outputs": [
    {
     "data": {
      "text/html": [
       "<div>\n",
       "<style scoped>\n",
       "    .dataframe tbody tr th:only-of-type {\n",
       "        vertical-align: middle;\n",
       "    }\n",
       "\n",
       "    .dataframe tbody tr th {\n",
       "        vertical-align: top;\n",
       "    }\n",
       "\n",
       "    .dataframe thead th {\n",
       "        text-align: right;\n",
       "    }\n",
       "</style>\n",
       "<table border=\"1\" class=\"dataframe\">\n",
       "  <thead>\n",
       "    <tr style=\"text-align: right;\">\n",
       "      <th></th>\n",
       "      <th>WHO Region</th>\n",
       "      <th>Country/Region</th>\n",
       "      <th>Date</th>\n",
       "      <th>Active</th>\n",
       "      <th>Province/State</th>\n",
       "      <th>Rank</th>\n",
       "    </tr>\n",
       "  </thead>\n",
       "  <tbody>\n",
       "    <tr>\n",
       "      <th>187</th>\n",
       "      <td>Americas</td>\n",
       "      <td>US</td>\n",
       "      <td>2020-07-27</td>\n",
       "      <td>2816444</td>\n",
       "      <td>NaN</td>\n",
       "      <td>1.0</td>\n",
       "    </tr>\n",
       "    <tr>\n",
       "      <th>2627</th>\n",
       "      <td>Europe</td>\n",
       "      <td>United Kingdom</td>\n",
       "      <td>2020-07-27</td>\n",
       "      <td>254352</td>\n",
       "      <td>NaN</td>\n",
       "      <td>2.0</td>\n",
       "    </tr>\n",
       "    <tr>\n",
       "      <th>563</th>\n",
       "      <td>Europe</td>\n",
       "      <td>Ukraine</td>\n",
       "      <td>2020-07-27</td>\n",
       "      <td>28258</td>\n",
       "      <td>NaN</td>\n",
       "      <td>3.0</td>\n",
       "    </tr>\n",
       "    <tr>\n",
       "      <th>375</th>\n",
       "      <td>Eastern Mediterranean</td>\n",
       "      <td>United Arab Emirates</td>\n",
       "      <td>2020-07-27</td>\n",
       "      <td>6322</td>\n",
       "      <td>NaN</td>\n",
       "      <td>4.0</td>\n",
       "    </tr>\n",
       "  </tbody>\n",
       "</table>\n",
       "</div>"
      ],
      "text/plain": [
       "                 WHO Region        Country/Region        Date   Active  \\\n",
       "187                Americas                    US  2020-07-27  2816444   \n",
       "2627                 Europe        United Kingdom  2020-07-27   254352   \n",
       "563                  Europe               Ukraine  2020-07-27    28258   \n",
       "375   Eastern Mediterranean  United Arab Emirates  2020-07-27     6322   \n",
       "\n",
       "     Province/State  Rank  \n",
       "187             NaN   1.0  \n",
       "2627            NaN   2.0  \n",
       "563             NaN   3.0  \n",
       "375             NaN   4.0  "
      ]
     },
     "execution_count": 46,
     "metadata": {},
     "output_type": "execute_result"
    }
   ],
   "source": [
    "ranked_df.head()"
   ]
  },
  {
   "cell_type": "markdown",
   "id": "d68ab0b5-7a46-467d-8748-6d4a7563279a",
   "metadata": {},
   "source": [
    "## Question 3 (1 point): Using groupby.\n",
    "1. Using the original DataFrame, create a groupby that groups by the same indexes as done when creating the multi index in question 1.\n",
    "2. Calculate the max and min for the Confirmed and Recovered Columns\n",
    "3. Save it as its own DataFrame\n"
   ]
  },
  {
   "cell_type": "code",
   "execution_count": 39,
   "id": "ad3370a5-f1ef-44be-9e59-a1d8a22ad5a4",
   "metadata": {},
   "outputs": [],
   "source": [
    "grouped = covid_df.groupby(['WHO Region', 'Country/Region'])"
   ]
  },
  {
   "cell_type": "code",
   "execution_count": 42,
   "id": "508c0336-1b63-4bbb-978f-7cc7ed06f2e3",
   "metadata": {},
   "outputs": [],
   "source": [
    "covid_group_stats = grouped[['Confirmed', 'Recovered']].agg(['max', 'min'])"
   ]
  },
  {
   "cell_type": "code",
   "execution_count": 43,
   "id": "5e51e075-9b05-43c3-af7a-45b42ae1706c",
   "metadata": {},
   "outputs": [
    {
     "data": {
      "text/html": [
       "<div>\n",
       "<style scoped>\n",
       "    .dataframe tbody tr th:only-of-type {\n",
       "        vertical-align: middle;\n",
       "    }\n",
       "\n",
       "    .dataframe tbody tr th {\n",
       "        vertical-align: top;\n",
       "    }\n",
       "\n",
       "    .dataframe thead tr th {\n",
       "        text-align: left;\n",
       "    }\n",
       "\n",
       "    .dataframe thead tr:last-of-type th {\n",
       "        text-align: right;\n",
       "    }\n",
       "</style>\n",
       "<table border=\"1\" class=\"dataframe\">\n",
       "  <thead>\n",
       "    <tr>\n",
       "      <th></th>\n",
       "      <th></th>\n",
       "      <th colspan=\"2\" halign=\"left\">Confirmed</th>\n",
       "      <th colspan=\"2\" halign=\"left\">Recovered</th>\n",
       "    </tr>\n",
       "    <tr>\n",
       "      <th></th>\n",
       "      <th></th>\n",
       "      <th>max</th>\n",
       "      <th>min</th>\n",
       "      <th>max</th>\n",
       "      <th>min</th>\n",
       "    </tr>\n",
       "    <tr>\n",
       "      <th>WHO Region</th>\n",
       "      <th>Country/Region</th>\n",
       "      <th></th>\n",
       "      <th></th>\n",
       "      <th></th>\n",
       "      <th></th>\n",
       "    </tr>\n",
       "  </thead>\n",
       "  <tbody>\n",
       "    <tr>\n",
       "      <th rowspan=\"5\" valign=\"top\">Africa</th>\n",
       "      <th>Algeria</th>\n",
       "      <td>27973</td>\n",
       "      <td>0</td>\n",
       "      <td>18837</td>\n",
       "      <td>0</td>\n",
       "    </tr>\n",
       "    <tr>\n",
       "      <th>Angola</th>\n",
       "      <td>950</td>\n",
       "      <td>0</td>\n",
       "      <td>242</td>\n",
       "      <td>0</td>\n",
       "    </tr>\n",
       "    <tr>\n",
       "      <th>Benin</th>\n",
       "      <td>1770</td>\n",
       "      <td>0</td>\n",
       "      <td>1036</td>\n",
       "      <td>0</td>\n",
       "    </tr>\n",
       "    <tr>\n",
       "      <th>Botswana</th>\n",
       "      <td>739</td>\n",
       "      <td>0</td>\n",
       "      <td>63</td>\n",
       "      <td>0</td>\n",
       "    </tr>\n",
       "    <tr>\n",
       "      <th>Burkina Faso</th>\n",
       "      <td>1100</td>\n",
       "      <td>0</td>\n",
       "      <td>926</td>\n",
       "      <td>0</td>\n",
       "    </tr>\n",
       "  </tbody>\n",
       "</table>\n",
       "</div>"
      ],
      "text/plain": [
       "                          Confirmed     Recovered    \n",
       "                                max min       max min\n",
       "WHO Region Country/Region                            \n",
       "Africa     Algeria            27973   0     18837   0\n",
       "           Angola               950   0       242   0\n",
       "           Benin               1770   0      1036   0\n",
       "           Botswana             739   0        63   0\n",
       "           Burkina Faso        1100   0       926   0"
      ]
     },
     "execution_count": 43,
     "metadata": {},
     "output_type": "execute_result"
    }
   ],
   "source": [
    "covid_group_stats.head()"
   ]
  },
  {
   "cell_type": "markdown",
   "id": "65e19d89-6984-41b3-b47e-06fc30aad81a",
   "metadata": {},
   "source": [
    "## Question 4 (1 point): More Groupby tasks.\n",
    "\n",
    "1. Swap the locations of the indexes.  Make the inner index the outer index and vice versa.\n",
    "2. Return the results (in one line of code) for the following countries: Norway, Netherlands, and Germany"
   ]
  },
  {
   "cell_type": "code",
   "execution_count": 44,
   "id": "7dd91cbc-79dd-44e9-97ea-85488d7c2ec1",
   "metadata": {},
   "outputs": [
    {
     "data": {
      "text/html": [
       "<div>\n",
       "<style scoped>\n",
       "    .dataframe tbody tr th:only-of-type {\n",
       "        vertical-align: middle;\n",
       "    }\n",
       "\n",
       "    .dataframe tbody tr th {\n",
       "        vertical-align: top;\n",
       "    }\n",
       "\n",
       "    .dataframe thead tr th {\n",
       "        text-align: left;\n",
       "    }\n",
       "\n",
       "    .dataframe thead tr:last-of-type th {\n",
       "        text-align: right;\n",
       "    }\n",
       "</style>\n",
       "<table border=\"1\" class=\"dataframe\">\n",
       "  <thead>\n",
       "    <tr>\n",
       "      <th></th>\n",
       "      <th></th>\n",
       "      <th colspan=\"2\" halign=\"left\">Confirmed</th>\n",
       "      <th colspan=\"2\" halign=\"left\">Recovered</th>\n",
       "    </tr>\n",
       "    <tr>\n",
       "      <th></th>\n",
       "      <th></th>\n",
       "      <th>max</th>\n",
       "      <th>min</th>\n",
       "      <th>max</th>\n",
       "      <th>min</th>\n",
       "    </tr>\n",
       "    <tr>\n",
       "      <th>Country/Region</th>\n",
       "      <th>WHO Region</th>\n",
       "      <th></th>\n",
       "      <th></th>\n",
       "      <th></th>\n",
       "      <th></th>\n",
       "    </tr>\n",
       "  </thead>\n",
       "  <tbody>\n",
       "    <tr>\n",
       "      <th>Norway</th>\n",
       "      <th>Europe</th>\n",
       "      <td>9132</td>\n",
       "      <td>0</td>\n",
       "      <td>8752</td>\n",
       "      <td>0</td>\n",
       "    </tr>\n",
       "    <tr>\n",
       "      <th>Netherlands</th>\n",
       "      <th>Europe</th>\n",
       "      <td>53151</td>\n",
       "      <td>0</td>\n",
       "      <td>102</td>\n",
       "      <td>0</td>\n",
       "    </tr>\n",
       "    <tr>\n",
       "      <th>Germany</th>\n",
       "      <th>Europe</th>\n",
       "      <td>207112</td>\n",
       "      <td>0</td>\n",
       "      <td>190314</td>\n",
       "      <td>0</td>\n",
       "    </tr>\n",
       "  </tbody>\n",
       "</table>\n",
       "</div>"
      ],
      "text/plain": [
       "                          Confirmed     Recovered    \n",
       "                                max min       max min\n",
       "Country/Region WHO Region                            \n",
       "Norway         Europe          9132   0      8752   0\n",
       "Netherlands    Europe         53151   0       102   0\n",
       "Germany        Europe        207112   0    190314   0"
      ]
     },
     "execution_count": 44,
     "metadata": {},
     "output_type": "execute_result"
    }
   ],
   "source": [
    "covid_group_stats.swaplevel().loc[['Norway', 'Netherlands', 'Germany']]"
   ]
  }
 ],
 "metadata": {
  "kernelspec": {
   "display_name": "Python 3 (ipykernel)",
   "language": "python",
   "name": "python3"
  },
  "language_info": {
   "codemirror_mode": {
    "name": "ipython",
    "version": 3
   },
   "file_extension": ".py",
   "mimetype": "text/x-python",
   "name": "python",
   "nbconvert_exporter": "python",
   "pygments_lexer": "ipython3",
   "version": "3.12.5"
  }
 },
 "nbformat": 4,
 "nbformat_minor": 5
}
