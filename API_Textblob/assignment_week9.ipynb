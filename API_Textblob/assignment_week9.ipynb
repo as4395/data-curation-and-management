{
 "cells": [
  {
   "cell_type": "markdown",
   "id": "1f1656de-40c0-4de2-96c9-cf4b2f1cd141",
   "metadata": {},
   "source": [
    "## Step 1: Import all libraries and set all API Connections"
   ]
  },
  {
   "cell_type": "code",
   "execution_count": 36,
   "id": "8fe038d7-89e2-4ae4-9b47-7c58937650f3",
   "metadata": {},
   "outputs": [],
   "source": [
    "import pandas as pd\n",
    "import numpy as np\n",
    "import requests\n",
    "import seaborn as sns\n",
    "from textblob import TextBlob\n"
   ]
  },
  {
   "cell_type": "markdown",
   "id": "0964ba38-cae5-444e-b574-8332a98381c3",
   "metadata": {},
   "source": [
    "## Step 2 (1 point): Identify the search item and pull data from the News API's top headlines endpoint, getting the results.\n",
    "* Set the pageSize parameter to 100\n",
    "* set the country to \"us\""
   ]
  },
  {
   "cell_type": "code",
   "execution_count": 4,
   "id": "06a2dc64-0587-45a3-a54b-d36120aec8c1",
   "metadata": {},
   "outputs": [],
   "source": [
    "api_key = \"70cbca8f00a64fc99eae8e7794298f8c\"\n",
    "URL = \"https://newsapi.org/v2/top-headlines\"\n",
    "\n",
    "params = {\n",
    "    \"country\": \"us\",\n",
    "    \"pageSize\": 100,\n",
    "    \"apiKey\": api_key\n",
    "}\n",
    "\n",
    "content = requests.get(URL, params=params)"
   ]
  },
  {
   "cell_type": "markdown",
   "id": "5a793dfc-10c3-44e1-b6dc-91601300d040",
   "metadata": {},
   "source": [
    "## Step 3 (2 points): Transform the data and use textblob to perform a sentiment analysis (polarity, subjectivity) on the data\n",
    "* Create a list of dictionaries housing the article data\n",
    "* From the article data include: title, description, content\n",
    "* Using Textblob, include polarity and subjectivity values as two separate fields\n",
    "    * Run on the Title of the article only\n",
    "\n"
   ]
  },
  {
   "cell_type": "code",
   "execution_count": 6,
   "id": "799594ca-0654-4b87-9e09-89f555348c68",
   "metadata": {},
   "outputs": [],
   "source": [
    "from textblob import TextBlob\n",
    "\n",
    "transformed_data = []\n",
    "\n",
    "for article in content.json()['articles']:\n",
    "    title = article.get('title', '')\n",
    "    description = article.get('description', '')\n",
    "    content_text = article.get('content', '')\n",
    "    \n",
    "    blob = TextBlob(title)\n",
    "    polarity = blob.sentiment.polarity\n",
    "    subjectivity = blob.sentiment.subjectivity\n",
    "    \n",
    "    transformed_data.append({\n",
    "        'title': title,\n",
    "        'description': description,\n",
    "        'content': content_text,\n",
    "        'polarity': polarity,\n",
    "        'subjectivity': subjectivity\n",
    "    })"
   ]
  },
  {
   "cell_type": "markdown",
   "id": "3f6319b9-4894-497e-bd24-b8b7a9b1c8e7",
   "metadata": {},
   "source": [
    "## Step 4 (1 point): Convert the list to a pandas DataFrame\n",
    "\n",
    "* calculate the average of the polarity and, using an f-string state if the overall polarity is objective or subjective \n",
    "* calculate the average of the subjectivity and, using an f-string state ifthe overall subjectivity is positive or negative\n"
   ]
  },
  {
   "cell_type": "code",
   "execution_count": 7,
   "id": "3c842b68-6173-4851-9f9d-ef53398caaf1",
   "metadata": {},
   "outputs": [
    {
     "name": "stdout",
     "output_type": "stream",
     "text": [
      "Average polarity: 0.014 — overall sentiment is positive\n",
      "Average subjectivity: 0.223 — overall tone is objective\n"
     ]
    }
   ],
   "source": [
    "df_transformed = pd.DataFrame(transformed_data)\n",
    "\n",
    "avg_polarity = df_transformed['polarity'].mean()\n",
    "avg_subjectivity = df_transformed['subjectivity'].mean()\n",
    "\n",
    "if avg_polarity > 0:\n",
    "    sentiment = \"positive\"\n",
    "elif avg_polarity < 0:\n",
    "    sentiment = \"negative\"\n",
    "else:\n",
    "    sentiment = \"neutral\"\n",
    "\n",
    "if avg_subjectivity > 0.5:\n",
    "    tone = \"subjective\"\n",
    "else:\n",
    "    tone = \"objective\"\n",
    "\n",
    "print(f\"Average polarity: {avg_polarity:.3f} — overall sentiment is {sentiment}\")\n",
    "print(f\"Average subjectivity: {avg_subjectivity:.3f} — overall tone is {tone}\")\n"
   ]
  },
  {
   "cell_type": "markdown",
   "id": "32028759-a520-48f2-814a-3c56fda53b6d",
   "metadata": {},
   "source": [
    "## Step 5 (1 point): Use a visualization tool to create one visualization to aid in displaying your findings"
   ]
  },
  {
   "cell_type": "code",
   "execution_count": 16,
   "id": "96c65f43-ff05-43d0-9d27-8cb5240194c3",
   "metadata": {},
   "outputs": [
    {
     "data": {
      "image/png": "[encoded data removed]",
      "text/plain": [
       "<Figure size 640x480 with 1 Axes>"
      ]
     },
     "metadata": {},
     "output_type": "display_data"
    }
   ],
   "source": [
    "import seaborn as sns\n",
    "import matplotlib.pyplot as plt\n",
    "\n",
    "sns.set_style(\"whitegrid\")\n",
    "\n",
    "sns.histplot(df_transformed['polarity'], \n",
    "             bins=20, \n",
    "             color='skyblue', \n",
    "             edgecolor='black')\n",
    "\n",
    "plt.xlim(-1, 1)\n",
    "plt.title('Distribution of Article Polarity', fontsize=16)\n",
    "plt.xlabel('Polarity', fontsize=12)\n",
    "plt.ylabel('Number of Articles', fontsize=12)\n",
    "plt.show()"
   ]
  }
 ],
 "metadata": {
  "kernelspec": {
   "display_name": "Python 3 (ipykernel)",
   "language": "python",
   "name": "python3"
  },
  "language_info": {
   "codemirror_mode": {
    "name": "ipython",
    "version": 3
   },
   "file_extension": ".py",
   "mimetype": "text/x-python",
   "name": "python",
   "nbconvert_exporter": "python",
   "pygments_lexer": "ipython3",
   "version": "3.12.5"
  }
 },
 "nbformat": 4,
 "nbformat_minor": 5
}
