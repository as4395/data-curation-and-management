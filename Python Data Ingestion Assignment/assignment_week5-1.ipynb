{
 "cells": [
  {
   "cell_type": "markdown",
   "id": "8b95f012-4738-48ee-82d1-b4bf72c2ca9e",
   "metadata": {},
   "source": [
    "### Import all the necessary libraries"
   ]
  },
  {
   "cell_type": "code",
   "execution_count": null,
   "id": "d4f3b255-02a2-434a-856f-dec772629a4e",
   "metadata": {},
   "outputs": [],
   "source": [
    "import pandas as pd"
   ]
  },
  {
   "cell_type": "markdown",
   "id": "bb4ff575-1ed7-4405-ae9c-b8d542690dad",
   "metadata": {},
   "source": [
    "## CSVs Assignment\n",
    "\n",
    "#### Instructions:\n",
    "\n",
    "Download the provided products.csv file.\n",
    "\n",
    "Read the products.csv file into a DataFrame.\n",
    "\n",
    "Add a new column called \"Total Value\", calculated as Price * Stock.\n",
    "\n",
    "Filter out products with a Total Value below 10000.\n",
    "\n",
    "Save the resulting DataFrame to a new file called filtered_products.csv"
   ]
  },
  {
   "cell_type": "code",
   "execution_count": 23,
   "id": "fc67f8e2-3a2f-4d8c-80db-6e1ffc8ba130",
   "metadata": {},
   "outputs": [
    {
     "data": {
      "text/html": [
       "<div>\n",
       "<style scoped>\n",
       "    .dataframe tbody tr th:only-of-type {\n",
       "        vertical-align: middle;\n",
       "    }\n",
       "\n",
       "    .dataframe tbody tr th {\n",
       "        vertical-align: top;\n",
       "    }\n",
       "\n",
       "    .dataframe thead th {\n",
       "        text-align: right;\n",
       "    }\n",
       "</style>\n",
       "<table border=\"1\" class=\"dataframe\">\n",
       "  <thead>\n",
       "    <tr style=\"text-align: right;\">\n",
       "      <th></th>\n",
       "      <th>Product ID</th>\n",
       "      <th>Product Name</th>\n",
       "      <th>Price</th>\n",
       "      <th>Stock</th>\n",
       "      <th>Total Value</th>\n",
       "    </tr>\n",
       "  </thead>\n",
       "  <tbody>\n",
       "    <tr>\n",
       "      <th>0</th>\n",
       "      <td>101</td>\n",
       "      <td>Laptop</td>\n",
       "      <td>1200</td>\n",
       "      <td>10</td>\n",
       "      <td>12000</td>\n",
       "    </tr>\n",
       "  </tbody>\n",
       "</table>\n",
       "</div>"
      ],
      "text/plain": [
       "   Product ID Product Name  Price  Stock  Total Value\n",
       "0         101       Laptop   1200     10        12000"
      ]
     },
     "execution_count": 23,
     "metadata": {},
     "output_type": "execute_result"
    }
   ],
   "source": [
    "import pandas as pd\n",
    "\n",
    "df = pd.read_csv('products.csv')\n",
    "df\n",
    "\n",
    "df[\"Total Value\"] = df[\"Price\"] * df[\"Stock\"]\n",
    "df\n",
    "\n",
    "filtered_df = df[df[\"Total Value\"] >= 10000]\n",
    "filtered_df\n",
    "\n",
    "filtered_df.to_csv(\"filtered_products.csv\", index=False)\n",
    "filtered_df.style.hide(axis=\"index\")\n",
    "filtered_df"
   ]
  },
  {
   "cell_type": "markdown",
   "id": "b412173e-37aa-4f61-b4a0-99f5a20eef60",
   "metadata": {},
   "source": [
    "## JSON Assignment\n",
    "\n",
    "#### Instructions:\n",
    "\n",
    "Download the provided employees.csv file.\n",
    "\n",
    "Read the employees.csv file into a DataFrame.\n",
    "\n",
    "Convert the DataFrame into a JSON file called employees.json.\n",
    "\n",
    "Read the employees.json file back into a new DataFrame.\n",
    "\n",
    "Filter out employees with a salary below 50,000.\n",
    "\n",
    "Save the filtered DataFrame to a new JSON file called high_salary_employees.json."
   ]
  },
  {
   "cell_type": "code",
   "execution_count": 24,
   "id": "dd109551-372d-47da-9cb7-5400d72aab35",
   "metadata": {},
   "outputs": [
    {
     "data": {
      "text/html": [
       "<div>\n",
       "<style scoped>\n",
       "    .dataframe tbody tr th:only-of-type {\n",
       "        vertical-align: middle;\n",
       "    }\n",
       "\n",
       "    .dataframe tbody tr th {\n",
       "        vertical-align: top;\n",
       "    }\n",
       "\n",
       "    .dataframe thead th {\n",
       "        text-align: right;\n",
       "    }\n",
       "</style>\n",
       "<table border=\"1\" class=\"dataframe\">\n",
       "  <thead>\n",
       "    <tr style=\"text-align: right;\">\n",
       "      <th></th>\n",
       "      <th>Employee ID</th>\n",
       "      <th>Name</th>\n",
       "      <th>Department</th>\n",
       "      <th>Salary</th>\n",
       "    </tr>\n",
       "  </thead>\n",
       "  <tbody>\n",
       "    <tr>\n",
       "      <th>1</th>\n",
       "      <td>2</td>\n",
       "      <td>Bob</td>\n",
       "      <td>Finance</td>\n",
       "      <td>52000</td>\n",
       "    </tr>\n",
       "    <tr>\n",
       "      <th>3</th>\n",
       "      <td>4</td>\n",
       "      <td>David</td>\n",
       "      <td>Marketing</td>\n",
       "      <td>60000</td>\n",
       "    </tr>\n",
       "    <tr>\n",
       "      <th>4</th>\n",
       "      <td>5</td>\n",
       "      <td>Eve</td>\n",
       "      <td>Sales</td>\n",
       "      <td>55000</td>\n",
       "    </tr>\n",
       "  </tbody>\n",
       "</table>\n",
       "</div>"
      ],
      "text/plain": [
       "   Employee ID   Name Department  Salary\n",
       "1            2    Bob    Finance   52000\n",
       "3            4  David  Marketing   60000\n",
       "4            5    Eve      Sales   55000"
      ]
     },
     "execution_count": 24,
     "metadata": {},
     "output_type": "execute_result"
    }
   ],
   "source": [
    "import pandas as pd\n",
    "\n",
    "df = pd.read_csv('employees.csv')\n",
    "df\n",
    "\n",
    "df.to_json('employees.json', orient='records')\n",
    "df\n",
    "\n",
    "df = pd.read_json('employees.json', orient='records')\n",
    "df\n",
    "\n",
    "df = df[df[\"Salary\"] >= 50000]\n",
    "df\n",
    "\n",
    "df.to_json('high_salary_employees.json', orient='records')\n",
    "df"
   ]
  },
  {
   "cell_type": "markdown",
   "id": "85a7c308-5991-4146-b211-cd588747b23d",
   "metadata": {},
   "source": [
    "## Excel Assignment\n",
    "\n",
    "#### Instructions:\n",
    "Download the provided sales.xlsx file.\n",
    "\n",
    "Read the sales.xlsx file into a DataFrame.\n",
    "\n",
    "Calculate the total sales for each product and add a new column called Total Sales.\n",
    "\n",
    "Convert the DataFrame into both CSV (sales_summary.csv) and JSON (sales_summary.json) files.\n",
    "\n",
    "Read both the CSV and JSON files back into new DataFrames to confirm the data integrity.\n",
    "\n",
    "Save the final DataFrame to a new Excel file called final_sales.xlsx."
   ]
  },
  {
   "cell_type": "code",
   "execution_count": 25,
   "id": "67200a3a-b519-45d5-9c1e-ff1c4c15c51d",
   "metadata": {},
   "outputs": [
    {
     "data": {
      "text/html": [
       "<div>\n",
       "<style scoped>\n",
       "    .dataframe tbody tr th:only-of-type {\n",
       "        vertical-align: middle;\n",
       "    }\n",
       "\n",
       "    .dataframe tbody tr th {\n",
       "        vertical-align: top;\n",
       "    }\n",
       "\n",
       "    .dataframe thead th {\n",
       "        text-align: right;\n",
       "    }\n",
       "</style>\n",
       "<table border=\"1\" class=\"dataframe\">\n",
       "  <thead>\n",
       "    <tr style=\"text-align: right;\">\n",
       "      <th></th>\n",
       "      <th>Product</th>\n",
       "      <th>Units Sold</th>\n",
       "      <th>Unit Price</th>\n",
       "      <th>Total Sales</th>\n",
       "    </tr>\n",
       "  </thead>\n",
       "  <tbody>\n",
       "    <tr>\n",
       "      <th>0</th>\n",
       "      <td>Laptop</td>\n",
       "      <td>5</td>\n",
       "      <td>1200</td>\n",
       "      <td>6000</td>\n",
       "    </tr>\n",
       "    <tr>\n",
       "      <th>1</th>\n",
       "      <td>Mouse</td>\n",
       "      <td>80</td>\n",
       "      <td>25</td>\n",
       "      <td>2000</td>\n",
       "    </tr>\n",
       "    <tr>\n",
       "      <th>2</th>\n",
       "      <td>Keyboard</td>\n",
       "      <td>30</td>\n",
       "      <td>45</td>\n",
       "      <td>1350</td>\n",
       "    </tr>\n",
       "    <tr>\n",
       "      <th>3</th>\n",
       "      <td>Monitor</td>\n",
       "      <td>12</td>\n",
       "      <td>300</td>\n",
       "      <td>3600</td>\n",
       "    </tr>\n",
       "    <tr>\n",
       "      <th>4</th>\n",
       "      <td>Printer</td>\n",
       "      <td>10</td>\n",
       "      <td>150</td>\n",
       "      <td>1500</td>\n",
       "    </tr>\n",
       "  </tbody>\n",
       "</table>\n",
       "</div>"
      ],
      "text/plain": [
       "    Product  Units Sold  Unit Price  Total Sales\n",
       "0    Laptop           5        1200         6000\n",
       "1     Mouse          80          25         2000\n",
       "2  Keyboard          30          45         1350\n",
       "3   Monitor          12         300         3600\n",
       "4   Printer          10         150         1500"
      ]
     },
     "execution_count": 25,
     "metadata": {},
     "output_type": "execute_result"
    }
   ],
   "source": [
    "import pandas as pd\n",
    "\n",
    "df = pd.read_excel('sales.xlsx')\n",
    "df\n",
    "\n",
    "df[\"Total Sales\"] = df[\"Units Sold\"] * df[\"Unit Price\"]\n",
    "df\n",
    "\n",
    "df.to_csv(\"sales_summary.csv\", index=False) \n",
    "df.to_json(\"sales_summary.json\", orient='records')\n",
    "df\n",
    "\n",
    "df = pd.read_csv(\"sales_summary.csv\")\n",
    "df \n",
    "\n",
    "df = pd.read_json(\"sales_summary.json\", orient='records') \n",
    "df  \n",
    "\n",
    "df.to_excel(\"final_sales.xlsx\", index=False)\n",
    "df"
   ]
  },
  {
   "cell_type": "code",
   "execution_count": null,
   "id": "3576c4da-3566-48ad-9525-48ed245a029b",
   "metadata": {},
   "outputs": [],
   "source": []
  }
 ],
 "metadata": {
  "kernelspec": {
   "display_name": "Python 3 (ipykernel)",
   "language": "python",
   "name": "python3"
  },
  "language_info": {
   "codemirror_mode": {
    "name": "ipython",
    "version": 3
   },
   "file_extension": ".py",
   "mimetype": "text/x-python",
   "name": "python",
   "nbconvert_exporter": "python",
   "pygments_lexer": "ipython3",
   "version": "3.12.5"
  }
 },
 "nbformat": 4,
 "nbformat_minor": 5
}
