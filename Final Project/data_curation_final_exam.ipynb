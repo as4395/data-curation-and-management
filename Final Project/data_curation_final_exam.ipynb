{
 "cells": [
  {
   "cell_type": "markdown",
   "id": "8de994a5",
   "metadata": {
    "jp-MarkdownHeadingCollapsed": true
   },
   "source": [
    "# Data Curation & Management – Final Exam\n",
    "**Semester:** Spring 2025  **Generated:** 2025‑04‑23 17:22\n",
    "\n",
    "**Student name:** Abhiram Singireddy\n",
    "\n",
    "Complete each question in the order given. **Do not delete** any rubric headers marked with 💯 — they are used for grading.\n",
    "Place any additional code or markdown cells *below* the relevant header.\n",
    "\n",
    "### Final Project Requirements:\n",
    "1. The code must run - if any part of the code throws an error, the final will receive a zero grade\n",
    "2. The code must run in order.  At no time will the kernal need to be restarted or will the grader be required to \"go backwards to go forwards\".\n",
    "    3. The grader will select Kernel>Restart Kernel and run all cells.  There should be no reason for that to cause an error\n",
    "    4. Exception: The grader will have to adjust for the reference to the Kagglehub file only\n",
    "3. Quality of work is paramount.  Simple results and basic findings will not receive an A.  In other words, the more inspection of the data, the better the grade.\n"
   ]
  },
  {
   "cell_type": "markdown",
   "id": "11283e54-e84a-439d-bf14-263f2c5e3b98",
   "metadata": {},
   "source": [
    "# Final Project Data Selection:\n",
    "\n",
    "You are now tasked with taking all that you have learned and applying it to a dataset.  For your final project, you will take on the role of a data analyst.  You are tasked with providing data insights and findings based on one of the four data sets found from Kagglehub.\n",
    "\n",
    "*Note: You can only use one of these four datasets:*\n",
    "\n",
    "* <a href='https://www.kaggle.com/datasets/bhargavchirumamilla/netflix-movies-and-tv-shows-till-2025'>Netflix Movies & TV Shows (till 2025) </a>\n",
    "* <a href='https://www.kaggle.com/datasets/apoorvaappz/global-super-store-dataset'>Global Superstore</a>\n",
    "* <a href='https://www.kaggle.com/datasets/ajaypalsinghlo/world-happiness-report-2024'>World Happiness Report 2024</a>\n",
    "* <a href='https://www.kaggle.com/datasets/gitadityamaddali/flipkart-laptop-reviews'>Flipkart/Laptop Reviews (sentiment)</a>\n",
    "\n",
    "The final project is not just about good code.  Its about using your data analytical mindset to uncover and present findings.  Therefore, basic descriptive statistics and simple aggregations will not suffice.  You are expected to inspect the data, ask probing questions of it, and then present the results, both visually and in a table-based output."
   ]
  },
  {
   "cell_type": "markdown",
   "id": "0109ab86-12da-4ba6-a4eb-92086c26e0e1",
   "metadata": {},
   "source": [
    "# Q0 Imports\n",
    "\n",
    "Imports are started here.  If you are using other imports, make sure to include them in the code block below."
   ]
  },
  {
   "cell_type": "code",
   "execution_count": 61,
   "id": "3af554e0-793a-4ae0-89fc-0239e279a395",
   "metadata": {},
   "outputs": [],
   "source": [
    "# Core data wrangling\n",
    "import pandas as pd\n",
    "import numpy as np\n",
    "\n",
    "# Visualization\n",
    "import matplotlib.pyplot as plt\n",
    "import seaborn as sns\n",
    "\n",
    "# Text / sentiment analysis (if the dataset has free-text fields)\n",
    "from textblob import TextBlob\n",
    "\n",
    "# SQLite persistence\n",
    "import sqlite3\n",
    "from sqlalchemy import create_engine, text\n",
    "\n",
    "# Dataset download via KaggleHub\n",
    "import kagglehub\n",
    "\n",
    "# File-system convenience (optional but handy)\n",
    "from pathlib import Path\n"
   ]
  },
  {
   "cell_type": "markdown",
   "id": "42d9d66c",
   "metadata": {},
   "source": [
    "## Q1  Dataset selection 💯 (10 pts)"
   ]
  },
  {
   "cell_type": "markdown",
   "id": "eda13be4",
   "metadata": {},
   "source": [
    "Write 5–8 sentences addressing:\n",
    "1. Dataset name & Kaggle URL\n",
    "2. Three columns you anticipate using most\n",
    "3. Why you have chosen this dataset?\n",
    "5. Why this dataset can support ≥3 substantive findings\n",
    "\n",
    "*The name of the dataset is \"World Happiness Report 2024\" and the Kaggle URL is https://www.kaggle.com/datasets/ajaypalsinghlo/world-happiness-report-2024. It includes data on how countries around the world rank in terms of happiness, and the factors that may be contributing to these scores. The three columns I anticiapte on using the most are Ladder score, Explained by: Log GDP per capita, and Explained by: Freedom to make life choices. I chose this dataset because I think it is interesting to examine how different factors such as economic production and life expectancy relate to happiness when looked at on a global scale. This datset can support at least 3 substantive findings because it includes both overall happiness scores and their associated factors. This allows me to explore correlations and patterns across different regions and see how different countries compare. \n",
    "*"
   ]
  },
  {
   "cell_type": "markdown",
   "id": "7fe35bbd",
   "metadata": {},
   "source": [
    "## Q2  ETL pipeline 💯 (25 pts)"
   ]
  },
  {
   "cell_type": "markdown",
   "id": "efa02edd",
   "metadata": {},
   "source": [
    "Follow the sub‑sections below. Each must run top‑to‑bottom on a fresh kernel. After `Kernel ▸ Restart & Run All` the notebook must complete without manual intervention (except editing the DATA_PATH cell above).\n"
   ]
  },
  {
   "cell_type": "markdown",
   "id": "e9fdb748",
   "metadata": {},
   "source": [
    "### 2a Extract"
   ]
  },
  {
   "cell_type": "code",
   "execution_count": 7,
   "id": "55d57e53",
   "metadata": {},
   "outputs": [
    {
     "name": "stdout",
     "output_type": "stream",
     "text": [
      "Path to dataset files: /Users/abhiramsingireddy/.cache/kagglehub/datasets/ajaypalsinghlo/world-happiness-report-2024/versions/1\n"
     ]
    }
   ],
   "source": [
    "# Use kagglehub or manual download here\n",
    "\n",
    "import kagglehub \n",
    "import pathlib \n",
    "import pandas as pd\n",
    "\n",
    "path = kagglehub.dataset_download(\"ajaypalsinghlo/world-happiness-report-2024\")\n",
    "\n",
    "print(\"Path to dataset files:\", path)"
   ]
  },
  {
   "cell_type": "code",
   "execution_count": 62,
   "id": "a6f3e71b-9c9f-4cdd-bff2-ae4efe0479d2",
   "metadata": {},
   "outputs": [
    {
     "data": {
      "text/html": [
       "<div>\n",
       "<style scoped>\n",
       "    .dataframe tbody tr th:only-of-type {\n",
       "        vertical-align: middle;\n",
       "    }\n",
       "\n",
       "    .dataframe tbody tr th {\n",
       "        vertical-align: top;\n",
       "    }\n",
       "\n",
       "    .dataframe thead th {\n",
       "        text-align: right;\n",
       "    }\n",
       "</style>\n",
       "<table border=\"1\" class=\"dataframe\">\n",
       "  <thead>\n",
       "    <tr style=\"text-align: right;\">\n",
       "      <th></th>\n",
       "      <th>Country name</th>\n",
       "      <th>Ladder score</th>\n",
       "      <th>upperwhisker</th>\n",
       "      <th>lowerwhisker</th>\n",
       "      <th>Explained by: Log GDP per capita</th>\n",
       "      <th>Explained by: Social support</th>\n",
       "      <th>Explained by: Healthy life expectancy</th>\n",
       "      <th>Explained by: Freedom to make life choices</th>\n",
       "      <th>Explained by: Generosity</th>\n",
       "      <th>Explained by: Perceptions of corruption</th>\n",
       "      <th>Dystopia + residual</th>\n",
       "    </tr>\n",
       "  </thead>\n",
       "  <tbody>\n",
       "    <tr>\n",
       "      <th>0</th>\n",
       "      <td>Finland</td>\n",
       "      <td>7.741</td>\n",
       "      <td>7.815</td>\n",
       "      <td>7.667</td>\n",
       "      <td>1.844</td>\n",
       "      <td>1.572</td>\n",
       "      <td>0.695</td>\n",
       "      <td>0.859</td>\n",
       "      <td>0.142</td>\n",
       "      <td>0.546</td>\n",
       "      <td>2.082</td>\n",
       "    </tr>\n",
       "    <tr>\n",
       "      <th>1</th>\n",
       "      <td>Denmark</td>\n",
       "      <td>7.583</td>\n",
       "      <td>7.665</td>\n",
       "      <td>7.500</td>\n",
       "      <td>1.908</td>\n",
       "      <td>1.520</td>\n",
       "      <td>0.699</td>\n",
       "      <td>0.823</td>\n",
       "      <td>0.204</td>\n",
       "      <td>0.548</td>\n",
       "      <td>1.881</td>\n",
       "    </tr>\n",
       "    <tr>\n",
       "      <th>2</th>\n",
       "      <td>Iceland</td>\n",
       "      <td>7.525</td>\n",
       "      <td>7.618</td>\n",
       "      <td>7.433</td>\n",
       "      <td>1.881</td>\n",
       "      <td>1.617</td>\n",
       "      <td>0.718</td>\n",
       "      <td>0.819</td>\n",
       "      <td>0.258</td>\n",
       "      <td>0.182</td>\n",
       "      <td>2.050</td>\n",
       "    </tr>\n",
       "    <tr>\n",
       "      <th>3</th>\n",
       "      <td>Sweden</td>\n",
       "      <td>7.344</td>\n",
       "      <td>7.422</td>\n",
       "      <td>7.267</td>\n",
       "      <td>1.878</td>\n",
       "      <td>1.501</td>\n",
       "      <td>0.724</td>\n",
       "      <td>0.838</td>\n",
       "      <td>0.221</td>\n",
       "      <td>0.524</td>\n",
       "      <td>1.658</td>\n",
       "    </tr>\n",
       "    <tr>\n",
       "      <th>4</th>\n",
       "      <td>Israel</td>\n",
       "      <td>7.341</td>\n",
       "      <td>7.405</td>\n",
       "      <td>7.277</td>\n",
       "      <td>1.803</td>\n",
       "      <td>1.513</td>\n",
       "      <td>0.740</td>\n",
       "      <td>0.641</td>\n",
       "      <td>0.153</td>\n",
       "      <td>0.193</td>\n",
       "      <td>2.298</td>\n",
       "    </tr>\n",
       "    <tr>\n",
       "      <th>...</th>\n",
       "      <td>...</td>\n",
       "      <td>...</td>\n",
       "      <td>...</td>\n",
       "      <td>...</td>\n",
       "      <td>...</td>\n",
       "      <td>...</td>\n",
       "      <td>...</td>\n",
       "      <td>...</td>\n",
       "      <td>...</td>\n",
       "      <td>...</td>\n",
       "      <td>...</td>\n",
       "    </tr>\n",
       "    <tr>\n",
       "      <th>138</th>\n",
       "      <td>Congo (Kinshasa)</td>\n",
       "      <td>3.295</td>\n",
       "      <td>3.462</td>\n",
       "      <td>3.128</td>\n",
       "      <td>0.534</td>\n",
       "      <td>0.665</td>\n",
       "      <td>0.262</td>\n",
       "      <td>0.473</td>\n",
       "      <td>0.189</td>\n",
       "      <td>0.072</td>\n",
       "      <td>1.102</td>\n",
       "    </tr>\n",
       "    <tr>\n",
       "      <th>139</th>\n",
       "      <td>Sierra Leone</td>\n",
       "      <td>3.245</td>\n",
       "      <td>3.366</td>\n",
       "      <td>3.124</td>\n",
       "      <td>0.654</td>\n",
       "      <td>0.566</td>\n",
       "      <td>0.253</td>\n",
       "      <td>0.469</td>\n",
       "      <td>0.181</td>\n",
       "      <td>0.053</td>\n",
       "      <td>1.068</td>\n",
       "    </tr>\n",
       "    <tr>\n",
       "      <th>140</th>\n",
       "      <td>Lesotho</td>\n",
       "      <td>3.186</td>\n",
       "      <td>3.469</td>\n",
       "      <td>2.904</td>\n",
       "      <td>0.771</td>\n",
       "      <td>0.851</td>\n",
       "      <td>0.000</td>\n",
       "      <td>0.523</td>\n",
       "      <td>0.082</td>\n",
       "      <td>0.085</td>\n",
       "      <td>0.875</td>\n",
       "    </tr>\n",
       "    <tr>\n",
       "      <th>141</th>\n",
       "      <td>Lebanon</td>\n",
       "      <td>2.707</td>\n",
       "      <td>2.797</td>\n",
       "      <td>2.616</td>\n",
       "      <td>1.377</td>\n",
       "      <td>0.577</td>\n",
       "      <td>0.556</td>\n",
       "      <td>0.173</td>\n",
       "      <td>0.068</td>\n",
       "      <td>0.029</td>\n",
       "      <td>-0.073</td>\n",
       "    </tr>\n",
       "    <tr>\n",
       "      <th>142</th>\n",
       "      <td>Afghanistan</td>\n",
       "      <td>1.721</td>\n",
       "      <td>1.775</td>\n",
       "      <td>1.667</td>\n",
       "      <td>0.628</td>\n",
       "      <td>0.000</td>\n",
       "      <td>0.242</td>\n",
       "      <td>0.000</td>\n",
       "      <td>0.091</td>\n",
       "      <td>0.088</td>\n",
       "      <td>0.672</td>\n",
       "    </tr>\n",
       "  </tbody>\n",
       "</table>\n",
       "<p>143 rows × 11 columns</p>\n",
       "</div>"
      ],
      "text/plain": [
       "         Country name  Ladder score  upperwhisker  lowerwhisker  \\\n",
       "0             Finland         7.741         7.815         7.667   \n",
       "1             Denmark         7.583         7.665         7.500   \n",
       "2             Iceland         7.525         7.618         7.433   \n",
       "3              Sweden         7.344         7.422         7.267   \n",
       "4              Israel         7.341         7.405         7.277   \n",
       "..                ...           ...           ...           ...   \n",
       "138  Congo (Kinshasa)         3.295         3.462         3.128   \n",
       "139      Sierra Leone         3.245         3.366         3.124   \n",
       "140           Lesotho         3.186         3.469         2.904   \n",
       "141           Lebanon         2.707         2.797         2.616   \n",
       "142       Afghanistan         1.721         1.775         1.667   \n",
       "\n",
       "     Explained by: Log GDP per capita  Explained by: Social support  \\\n",
       "0                               1.844                         1.572   \n",
       "1                               1.908                         1.520   \n",
       "2                               1.881                         1.617   \n",
       "3                               1.878                         1.501   \n",
       "4                               1.803                         1.513   \n",
       "..                                ...                           ...   \n",
       "138                             0.534                         0.665   \n",
       "139                             0.654                         0.566   \n",
       "140                             0.771                         0.851   \n",
       "141                             1.377                         0.577   \n",
       "142                             0.628                         0.000   \n",
       "\n",
       "     Explained by: Healthy life expectancy  \\\n",
       "0                                    0.695   \n",
       "1                                    0.699   \n",
       "2                                    0.718   \n",
       "3                                    0.724   \n",
       "4                                    0.740   \n",
       "..                                     ...   \n",
       "138                                  0.262   \n",
       "139                                  0.253   \n",
       "140                                  0.000   \n",
       "141                                  0.556   \n",
       "142                                  0.242   \n",
       "\n",
       "     Explained by: Freedom to make life choices  Explained by: Generosity  \\\n",
       "0                                         0.859                     0.142   \n",
       "1                                         0.823                     0.204   \n",
       "2                                         0.819                     0.258   \n",
       "3                                         0.838                     0.221   \n",
       "4                                         0.641                     0.153   \n",
       "..                                          ...                       ...   \n",
       "138                                       0.473                     0.189   \n",
       "139                                       0.469                     0.181   \n",
       "140                                       0.523                     0.082   \n",
       "141                                       0.173                     0.068   \n",
       "142                                       0.000                     0.091   \n",
       "\n",
       "     Explained by: Perceptions of corruption  Dystopia + residual  \n",
       "0                                      0.546                2.082  \n",
       "1                                      0.548                1.881  \n",
       "2                                      0.182                2.050  \n",
       "3                                      0.524                1.658  \n",
       "4                                      0.193                2.298  \n",
       "..                                       ...                  ...  \n",
       "138                                    0.072                1.102  \n",
       "139                                    0.053                1.068  \n",
       "140                                    0.085                0.875  \n",
       "141                                    0.029               -0.073  \n",
       "142                                    0.088                0.672  \n",
       "\n",
       "[143 rows x 11 columns]"
      ]
     },
     "execution_count": 62,
     "metadata": {},
     "output_type": "execute_result"
    }
   ],
   "source": [
    "world_happiness_report_dir = pathlib.Path(r\"/Users/abhiramsingireddy/.cache/kagglehub/datasets/ajaypalsinghlo/world-happiness-report-2024/versions/1\")\n",
    "world_happiness_file = world_happiness_report_dir / \"WHR2024.csv\" \n",
    "\n",
    "world_happiness_df = pd.read_csv(world_happiness_file)\n",
    "\n",
    "world_happiness_df"
   ]
  },
  {
   "cell_type": "markdown",
   "id": "5e995ea3",
   "metadata": {},
   "source": [
    "### 2b Transform – cleaning & feature engineering"
   ]
  },
  {
   "cell_type": "code",
   "execution_count": 63,
   "id": "72ca38fc",
   "metadata": {},
   "outputs": [
    {
     "data": {
      "text/plain": [
       "(143, 11)"
      ]
     },
     "execution_count": 63,
     "metadata": {},
     "output_type": "execute_result"
    }
   ],
   "source": [
    "# Typical tasks: .dropna(), .astype(), explode(), new columns, aggregations\n",
    "\n",
    "world_happiness_df.shape"
   ]
  },
  {
   "cell_type": "code",
   "execution_count": 64,
   "id": "c38bd691-8f25-47f6-9c9a-e7512b068348",
   "metadata": {},
   "outputs": [
    {
     "name": "stdout",
     "output_type": "stream",
     "text": [
      "<class 'pandas.core.frame.DataFrame'>\n",
      "RangeIndex: 143 entries, 0 to 142\n",
      "Data columns (total 11 columns):\n",
      " #   Column                                      Non-Null Count  Dtype  \n",
      "---  ------                                      --------------  -----  \n",
      " 0   Country name                                143 non-null    object \n",
      " 1   Ladder score                                143 non-null    float64\n",
      " 2   upperwhisker                                143 non-null    float64\n",
      " 3   lowerwhisker                                143 non-null    float64\n",
      " 4   Explained by: Log GDP per capita            140 non-null    float64\n",
      " 5   Explained by: Social support                140 non-null    float64\n",
      " 6   Explained by: Healthy life expectancy       140 non-null    float64\n",
      " 7   Explained by: Freedom to make life choices  140 non-null    float64\n",
      " 8   Explained by: Generosity                    140 non-null    float64\n",
      " 9   Explained by: Perceptions of corruption     140 non-null    float64\n",
      " 10  Dystopia + residual                         140 non-null    float64\n",
      "dtypes: float64(10), object(1)\n",
      "memory usage: 12.4+ KB\n"
     ]
    }
   ],
   "source": [
    "world_happiness_df.info()"
   ]
  },
  {
   "cell_type": "code",
   "execution_count": 65,
   "id": "c3e1b10f-d115-4382-b865-a973724ae0f7",
   "metadata": {},
   "outputs": [
    {
     "data": {
      "text/html": [
       "<div>\n",
       "<style scoped>\n",
       "    .dataframe tbody tr th:only-of-type {\n",
       "        vertical-align: middle;\n",
       "    }\n",
       "\n",
       "    .dataframe tbody tr th {\n",
       "        vertical-align: top;\n",
       "    }\n",
       "\n",
       "    .dataframe thead th {\n",
       "        text-align: right;\n",
       "    }\n",
       "</style>\n",
       "<table border=\"1\" class=\"dataframe\">\n",
       "  <thead>\n",
       "    <tr style=\"text-align: right;\">\n",
       "      <th></th>\n",
       "      <th>Country name</th>\n",
       "      <th>Ladder score</th>\n",
       "      <th>upperwhisker</th>\n",
       "      <th>lowerwhisker</th>\n",
       "      <th>Explained by: Log GDP per capita</th>\n",
       "      <th>Explained by: Social support</th>\n",
       "      <th>Explained by: Healthy life expectancy</th>\n",
       "      <th>Explained by: Freedom to make life choices</th>\n",
       "      <th>Explained by: Generosity</th>\n",
       "      <th>Explained by: Perceptions of corruption</th>\n",
       "      <th>Dystopia + residual</th>\n",
       "    </tr>\n",
       "  </thead>\n",
       "  <tbody>\n",
       "    <tr>\n",
       "      <th>count</th>\n",
       "      <td>143</td>\n",
       "      <td>143.000000</td>\n",
       "      <td>143.000000</td>\n",
       "      <td>143.000000</td>\n",
       "      <td>140.000000</td>\n",
       "      <td>140.000000</td>\n",
       "      <td>140.000000</td>\n",
       "      <td>140.000000</td>\n",
       "      <td>140.000000</td>\n",
       "      <td>140.000000</td>\n",
       "      <td>140.000000</td>\n",
       "    </tr>\n",
       "    <tr>\n",
       "      <th>unique</th>\n",
       "      <td>143</td>\n",
       "      <td>NaN</td>\n",
       "      <td>NaN</td>\n",
       "      <td>NaN</td>\n",
       "      <td>NaN</td>\n",
       "      <td>NaN</td>\n",
       "      <td>NaN</td>\n",
       "      <td>NaN</td>\n",
       "      <td>NaN</td>\n",
       "      <td>NaN</td>\n",
       "      <td>NaN</td>\n",
       "    </tr>\n",
       "    <tr>\n",
       "      <th>top</th>\n",
       "      <td>Finland</td>\n",
       "      <td>NaN</td>\n",
       "      <td>NaN</td>\n",
       "      <td>NaN</td>\n",
       "      <td>NaN</td>\n",
       "      <td>NaN</td>\n",
       "      <td>NaN</td>\n",
       "      <td>NaN</td>\n",
       "      <td>NaN</td>\n",
       "      <td>NaN</td>\n",
       "      <td>NaN</td>\n",
       "    </tr>\n",
       "    <tr>\n",
       "      <th>freq</th>\n",
       "      <td>1</td>\n",
       "      <td>NaN</td>\n",
       "      <td>NaN</td>\n",
       "      <td>NaN</td>\n",
       "      <td>NaN</td>\n",
       "      <td>NaN</td>\n",
       "      <td>NaN</td>\n",
       "      <td>NaN</td>\n",
       "      <td>NaN</td>\n",
       "      <td>NaN</td>\n",
       "      <td>NaN</td>\n",
       "    </tr>\n",
       "    <tr>\n",
       "      <th>mean</th>\n",
       "      <td>NaN</td>\n",
       "      <td>5.527580</td>\n",
       "      <td>5.641175</td>\n",
       "      <td>5.413972</td>\n",
       "      <td>1.378807</td>\n",
       "      <td>1.134329</td>\n",
       "      <td>0.520886</td>\n",
       "      <td>0.620621</td>\n",
       "      <td>0.146271</td>\n",
       "      <td>0.154121</td>\n",
       "      <td>1.575914</td>\n",
       "    </tr>\n",
       "    <tr>\n",
       "      <th>std</th>\n",
       "      <td>NaN</td>\n",
       "      <td>1.170717</td>\n",
       "      <td>1.155008</td>\n",
       "      <td>1.187133</td>\n",
       "      <td>0.425098</td>\n",
       "      <td>0.333317</td>\n",
       "      <td>0.164923</td>\n",
       "      <td>0.162492</td>\n",
       "      <td>0.073441</td>\n",
       "      <td>0.126238</td>\n",
       "      <td>0.537459</td>\n",
       "    </tr>\n",
       "    <tr>\n",
       "      <th>min</th>\n",
       "      <td>NaN</td>\n",
       "      <td>1.721000</td>\n",
       "      <td>1.775000</td>\n",
       "      <td>1.667000</td>\n",
       "      <td>0.000000</td>\n",
       "      <td>0.000000</td>\n",
       "      <td>0.000000</td>\n",
       "      <td>0.000000</td>\n",
       "      <td>0.000000</td>\n",
       "      <td>0.000000</td>\n",
       "      <td>-0.073000</td>\n",
       "    </tr>\n",
       "    <tr>\n",
       "      <th>25%</th>\n",
       "      <td>NaN</td>\n",
       "      <td>4.726000</td>\n",
       "      <td>4.845500</td>\n",
       "      <td>4.606000</td>\n",
       "      <td>1.077750</td>\n",
       "      <td>0.921750</td>\n",
       "      <td>0.398000</td>\n",
       "      <td>0.527500</td>\n",
       "      <td>0.091000</td>\n",
       "      <td>0.068750</td>\n",
       "      <td>1.308250</td>\n",
       "    </tr>\n",
       "    <tr>\n",
       "      <th>50%</th>\n",
       "      <td>NaN</td>\n",
       "      <td>5.785000</td>\n",
       "      <td>5.895000</td>\n",
       "      <td>5.674000</td>\n",
       "      <td>1.431500</td>\n",
       "      <td>1.237500</td>\n",
       "      <td>0.549500</td>\n",
       "      <td>0.641000</td>\n",
       "      <td>0.136500</td>\n",
       "      <td>0.120500</td>\n",
       "      <td>1.644500</td>\n",
       "    </tr>\n",
       "    <tr>\n",
       "      <th>75%</th>\n",
       "      <td>NaN</td>\n",
       "      <td>6.416000</td>\n",
       "      <td>6.507500</td>\n",
       "      <td>6.319000</td>\n",
       "      <td>1.741500</td>\n",
       "      <td>1.383250</td>\n",
       "      <td>0.648500</td>\n",
       "      <td>0.736000</td>\n",
       "      <td>0.192500</td>\n",
       "      <td>0.193750</td>\n",
       "      <td>1.881750</td>\n",
       "    </tr>\n",
       "    <tr>\n",
       "      <th>max</th>\n",
       "      <td>NaN</td>\n",
       "      <td>7.741000</td>\n",
       "      <td>7.815000</td>\n",
       "      <td>7.667000</td>\n",
       "      <td>2.141000</td>\n",
       "      <td>1.617000</td>\n",
       "      <td>0.857000</td>\n",
       "      <td>0.863000</td>\n",
       "      <td>0.401000</td>\n",
       "      <td>0.575000</td>\n",
       "      <td>2.998000</td>\n",
       "    </tr>\n",
       "  </tbody>\n",
       "</table>\n",
       "</div>"
      ],
      "text/plain": [
       "       Country name  Ladder score  upperwhisker  lowerwhisker  \\\n",
       "count           143    143.000000    143.000000    143.000000   \n",
       "unique          143           NaN           NaN           NaN   \n",
       "top         Finland           NaN           NaN           NaN   \n",
       "freq              1           NaN           NaN           NaN   \n",
       "mean            NaN      5.527580      5.641175      5.413972   \n",
       "std             NaN      1.170717      1.155008      1.187133   \n",
       "min             NaN      1.721000      1.775000      1.667000   \n",
       "25%             NaN      4.726000      4.845500      4.606000   \n",
       "50%             NaN      5.785000      5.895000      5.674000   \n",
       "75%             NaN      6.416000      6.507500      6.319000   \n",
       "max             NaN      7.741000      7.815000      7.667000   \n",
       "\n",
       "        Explained by: Log GDP per capita  Explained by: Social support  \\\n",
       "count                         140.000000                    140.000000   \n",
       "unique                               NaN                           NaN   \n",
       "top                                  NaN                           NaN   \n",
       "freq                                 NaN                           NaN   \n",
       "mean                            1.378807                      1.134329   \n",
       "std                             0.425098                      0.333317   \n",
       "min                             0.000000                      0.000000   \n",
       "25%                             1.077750                      0.921750   \n",
       "50%                             1.431500                      1.237500   \n",
       "75%                             1.741500                      1.383250   \n",
       "max                             2.141000                      1.617000   \n",
       "\n",
       "        Explained by: Healthy life expectancy  \\\n",
       "count                              140.000000   \n",
       "unique                                    NaN   \n",
       "top                                       NaN   \n",
       "freq                                      NaN   \n",
       "mean                                 0.520886   \n",
       "std                                  0.164923   \n",
       "min                                  0.000000   \n",
       "25%                                  0.398000   \n",
       "50%                                  0.549500   \n",
       "75%                                  0.648500   \n",
       "max                                  0.857000   \n",
       "\n",
       "        Explained by: Freedom to make life choices  Explained by: Generosity  \\\n",
       "count                                   140.000000                140.000000   \n",
       "unique                                         NaN                       NaN   \n",
       "top                                            NaN                       NaN   \n",
       "freq                                           NaN                       NaN   \n",
       "mean                                      0.620621                  0.146271   \n",
       "std                                       0.162492                  0.073441   \n",
       "min                                       0.000000                  0.000000   \n",
       "25%                                       0.527500                  0.091000   \n",
       "50%                                       0.641000                  0.136500   \n",
       "75%                                       0.736000                  0.192500   \n",
       "max                                       0.863000                  0.401000   \n",
       "\n",
       "        Explained by: Perceptions of corruption  Dystopia + residual  \n",
       "count                                140.000000           140.000000  \n",
       "unique                                      NaN                  NaN  \n",
       "top                                         NaN                  NaN  \n",
       "freq                                        NaN                  NaN  \n",
       "mean                                   0.154121             1.575914  \n",
       "std                                    0.126238             0.537459  \n",
       "min                                    0.000000            -0.073000  \n",
       "25%                                    0.068750             1.308250  \n",
       "50%                                    0.120500             1.644500  \n",
       "75%                                    0.193750             1.881750  \n",
       "max                                    0.575000             2.998000  "
      ]
     },
     "execution_count": 65,
     "metadata": {},
     "output_type": "execute_result"
    }
   ],
   "source": [
    "world_happiness_df.describe(include='all')"
   ]
  },
  {
   "cell_type": "code",
   "execution_count": 66,
   "id": "39c726cc-d8d5-42c0-a2d9-67fff4d61743",
   "metadata": {},
   "outputs": [],
   "source": [
    "world_happiness_df_clean = world_happiness_df.dropna()"
   ]
  },
  {
   "cell_type": "code",
   "execution_count": 67,
   "id": "019311af-0de9-4c2c-9990-9df8c22a8721",
   "metadata": {},
   "outputs": [],
   "source": [
    "world_happiness_df_clean = world_happiness_df_clean.rename(columns={\n",
    "    'Country name': 'country',\n",
    "    'Ladder score': 'ladder_score',\n",
    "    'upperwhisker': 'upper_whisker',\n",
    "    'lowerwhisker': 'lower_whisker',\n",
    "    'Explained by: Log GDP per capita': 'gdp',\n",
    "    'Explained by: Social support': 'social_support',\n",
    "    'Explained by: Healthy life expectancy': 'life_expectancy',\n",
    "    'Explained by: Freedom to make life choices': 'freedom',\n",
    "    'Explained by: Generosity': 'generosity',\n",
    "    'Explained by: Perceptions of corruption': 'corruption',\n",
    "    'Dystopia + residual': 'dystopia_residual'\n",
    "})"
   ]
  },
  {
   "cell_type": "code",
   "execution_count": 68,
   "id": "b6dbe99e-6daf-4d29-9934-47d78f668544",
   "metadata": {},
   "outputs": [
    {
     "name": "stdout",
     "output_type": "stream",
     "text": [
      "<class 'pandas.core.frame.DataFrame'>\n",
      "Index: 140 entries, 0 to 142\n",
      "Data columns (total 11 columns):\n",
      " #   Column             Non-Null Count  Dtype  \n",
      "---  ------             --------------  -----  \n",
      " 0   country            140 non-null    object \n",
      " 1   ladder_score       140 non-null    float64\n",
      " 2   upper_whisker      140 non-null    float64\n",
      " 3   lower_whisker      140 non-null    float64\n",
      " 4   gdp                140 non-null    float64\n",
      " 5   social_support     140 non-null    float64\n",
      " 6   life_expectancy    140 non-null    float64\n",
      " 7   freedom            140 non-null    float64\n",
      " 8   generosity         140 non-null    float64\n",
      " 9   corruption         140 non-null    float64\n",
      " 10  dystopia_residual  140 non-null    float64\n",
      "dtypes: float64(10), object(1)\n",
      "memory usage: 13.1+ KB\n"
     ]
    }
   ],
   "source": [
    "world_happiness_df_clean.info()"
   ]
  },
  {
   "cell_type": "code",
   "execution_count": 69,
   "id": "4e713bdc-e52b-490b-b8d6-977d7f6d5486",
   "metadata": {},
   "outputs": [],
   "source": [
    "world_happiness_df_clean['positive_factors'] = (\n",
    "    world_happiness_df_clean['gdp'] +\n",
    "    world_happiness_df_clean['social_support'] +\n",
    "    world_happiness_df_clean['life_expectancy'] +\n",
    "    world_happiness_df_clean['freedom'] +\n",
    "    world_happiness_df_clean['generosity']\n",
    ")"
   ]
  },
  {
   "cell_type": "markdown",
   "id": "a94d35e4",
   "metadata": {},
   "source": [
    "### 2c Load – save to SQLite"
   ]
  },
  {
   "cell_type": "code",
   "execution_count": 70,
   "id": "12b38484",
   "metadata": {},
   "outputs": [
    {
     "data": {
      "text/plain": [
       "140"
      ]
     },
     "execution_count": 70,
     "metadata": {},
     "output_type": "execute_result"
    }
   ],
   "source": [
    "import sqlite3\n",
    "from sqlalchemy import create_engine\n",
    "\n",
    "engine = create_engine('sqlite:///project.db')\n",
    "# Save your DataFrame to the SQLite db, giving the table a meaningful name\n",
    "world_happiness_df_clean.to_sql('world_happiness_2024', con=engine, if_exists='replace', index=False)"
   ]
  },
  {
   "cell_type": "markdown",
   "id": "a403b362",
   "metadata": {},
   "source": [
    "### Q2 Rubric – ETL Pipeline\n",
    "\n",
    "| Sub-task | Criteria | Pts |\n",
    "|----------|----------|-----|\n",
    "| **2a & 2b  Cleaning & transformation** | Applies appropriate pandas cleaning techniques (`dropna`, `astype`, deduplication, etc.) | **10** |\n",
    "| **2b  Feature engineering / aggregation** | Creates **≥ 1** new meaningful column *or* aggregated table (e.g., groupby summary) | **10** |\n",
    "| **2c  Load to SQLite** | Writes the cleaned DataFrame(s) to `project.db` without errors (`to_sql`, correct schema) | **5** |\n",
    "| **Section total** |   | **25 pts** |\n"
   ]
  },
  {
   "cell_type": "markdown",
   "id": "27fbbbdc",
   "metadata": {},
   "source": [
    "## Q3  Analytical findings 💯 (30 pts)\n",
    "\n",
    "In this section, you will reference the cleaned dataframe you created in step 2b.  \n",
    "\n",
    "Each finding section will display:\n",
    "1. What is the question you posed of the data.\n",
    "2. A description of the code logic that was used to answer the question. This is a high-level overview (1-3 sentences) of the code's process.\n",
    "3. The answer or findings to the question.  This is a descriptive answer, with numbers referenced if applicable.\n",
    "    4. Note that the pandas code that produces the answer will reflect and support your findings/answer.\n",
    "    5. Each Finding block must finish with one pandas DataFrame showing the key numbers that appear in your narrative."
   ]
  },
  {
   "cell_type": "markdown",
   "id": "e2ac2845",
   "metadata": {},
   "source": [
    "### Finding 1\n",
    "**Question:** Which country reported the highest life satisfaction (ladder score) in 2024?\n",
    "**Method:** *(I sorted the cleaned data frame by the 'Ladder score' column in descending order and selected the top country.)*  \n",
    "**Answer:** Finland reported the highest life satisfaction in 2024, with a ladder score of 7.741.\n",
    "\n",
    "_Write your narrative above, then run the code cell below to compute it._"
   ]
  },
  {
   "cell_type": "code",
   "execution_count": 71,
   "id": "1fbcec65",
   "metadata": {},
   "outputs": [
    {
     "data": {
      "text/html": [
       "<div>\n",
       "<style scoped>\n",
       "    .dataframe tbody tr th:only-of-type {\n",
       "        vertical-align: middle;\n",
       "    }\n",
       "\n",
       "    .dataframe tbody tr th {\n",
       "        vertical-align: top;\n",
       "    }\n",
       "\n",
       "    .dataframe thead th {\n",
       "        text-align: right;\n",
       "    }\n",
       "</style>\n",
       "<table border=\"1\" class=\"dataframe\">\n",
       "  <thead>\n",
       "    <tr style=\"text-align: right;\">\n",
       "      <th></th>\n",
       "      <th>country</th>\n",
       "      <th>ladder_score</th>\n",
       "    </tr>\n",
       "  </thead>\n",
       "  <tbody>\n",
       "    <tr>\n",
       "      <th>0</th>\n",
       "      <td>Finland</td>\n",
       "      <td>7.741</td>\n",
       "    </tr>\n",
       "  </tbody>\n",
       "</table>\n",
       "</div>"
      ],
      "text/plain": [
       "   country  ladder_score\n",
       "0  Finland         7.741"
      ]
     },
     "execution_count": 71,
     "metadata": {},
     "output_type": "execute_result"
    }
   ],
   "source": [
    "# pandas code producing the answer\n",
    "\n",
    "top_country = world_happiness_df_clean.sort_values(by='ladder_score', ascending=False).head(1)\n",
    "top_country[['country', 'ladder_score']]"
   ]
  },
  {
   "cell_type": "markdown",
   "id": "e7295a61",
   "metadata": {},
   "source": [
    "### Finding 2\n",
    "**Question:** Which factor contributes the most to the average happiness score across all countries?\n",
    "\n",
    "**Method:** *(I calculated the average of each contributing factor column using '.mean()', sorted the results in descending order, and used '.head(1)' find the highest contributor.)*  \n",
    "\n",
    "**Answer:** Across all countries, GDP had the highest average contribution to the happiness score, with an average impact of 1.38. \n",
    "\n",
    "_Write your narrative above, then run the code cell below to compute it._"
   ]
  },
  {
   "cell_type": "code",
   "execution_count": 72,
   "id": "bc923805",
   "metadata": {},
   "outputs": [
    {
     "data": {
      "text/plain": [
       "gdp    1.38\n",
       "dtype: float64"
      ]
     },
     "execution_count": 72,
     "metadata": {},
     "output_type": "execute_result"
    }
   ],
   "source": [
    "# pandas code producing the answer\n",
    "\n",
    "positive_factors = ['gdp', 'social_support', 'life_expectancy', 'freedom', 'generosity']\n",
    "avg_contributions = world_happiness_df_clean[positive_factors].mean().sort_values(ascending=False).round(2)\n",
    "avg_contributions.head(1)"
   ]
  },
  {
   "cell_type": "markdown",
   "id": "a12c2369",
   "metadata": {},
   "source": [
    "### Finding 3\n",
    "**Question:** How many countries have a happiness score above the global average?\n",
    "**Method:** *(I calculated the global average of the 'ladder_score' and filtered the DataFrame to count how many countries have a score higher than that value.)*  \n",
    "**Answer:** A total of 79 countries scored have a happiness score above the global average of 5.53.\n",
    "\n",
    "_Write your narrative above, then run the code cell below to compute it._"
   ]
  },
  {
   "cell_type": "code",
   "execution_count": 73,
   "id": "07587236",
   "metadata": {},
   "outputs": [
    {
     "data": {
      "text/html": [
       "<div>\n",
       "<style scoped>\n",
       "    .dataframe tbody tr th:only-of-type {\n",
       "        vertical-align: middle;\n",
       "    }\n",
       "\n",
       "    .dataframe tbody tr th {\n",
       "        vertical-align: top;\n",
       "    }\n",
       "\n",
       "    .dataframe thead th {\n",
       "        text-align: right;\n",
       "    }\n",
       "</style>\n",
       "<table border=\"1\" class=\"dataframe\">\n",
       "  <thead>\n",
       "    <tr style=\"text-align: right;\">\n",
       "      <th></th>\n",
       "      <th>Countries above global average</th>\n",
       "      <th>Global average score</th>\n",
       "    </tr>\n",
       "  </thead>\n",
       "  <tbody>\n",
       "    <tr>\n",
       "      <th>0</th>\n",
       "      <td>79</td>\n",
       "      <td>5.53</td>\n",
       "    </tr>\n",
       "  </tbody>\n",
       "</table>\n",
       "</div>"
      ],
      "text/plain": [
       "   Countries above global average  Global average score\n",
       "0                              79                  5.53"
      ]
     },
     "execution_count": 73,
     "metadata": {},
     "output_type": "execute_result"
    }
   ],
   "source": [
    "# pandas code producing the answer\n",
    "\n",
    "global_avg = world_happiness_df_clean['ladder_score'].mean().round(2)\n",
    "above_avg_countries = world_happiness_df_clean[world_happiness_df_clean['ladder_score'] > global_avg]\n",
    "pd.DataFrame({'Countries above global average': [above_avg_countries.shape[0]], 'Global average score': [global_avg]})"
   ]
  },
  {
   "cell_type": "markdown",
   "id": "c336c8e2-58d1-42a6-984c-e0afda2ff826",
   "metadata": {},
   "source": [
    "#### Q3 Rubric\n",
    "\n",
    "| Component | Criteria | Points per finding |\n",
    "|-----------|----------|--------------------|\n",
    "| **Narrative clarity** | • States a **specific** question or hypothesis<br>• Summarises the answer in plain English<br>• ≤ 120 words, grammatically sound | **3 pts** |\n",
    "| **Code correctness & reproducibility** | • Uses pandas and/or SQL to produce the stated result<br>• Runs without errors after **Kernel ▸ Restart & Run All**<br>• Shows only essential steps (no orphan vars) | **4 pts** |\n",
    "| **Tabular evidence** | • Displays a concise DataFrame (≤ 10 rows × 5 cols) **or** a scalar value matching the narrative<br>• Columns clearly named; units (if any) included | **3 pts** |\n",
    "\n",
    "**Total per finding:** **10 pts**  \n",
    "Three findings × 10 pts = **30 pts**\n"
   ]
  },
  {
   "cell_type": "markdown",
   "id": "6ccfdd9d",
   "metadata": {},
   "source": [
    "## Q4  Visual communication 💯 (20 pts)"
   ]
  },
  {
   "cell_type": "markdown",
   "id": "b10f6078",
   "metadata": {},
   "source": [
    "**Generate one chart per finding below.**\n",
    "\n",
    "This can be either:\n",
    "* Visual representations of the findings in the last section\n",
    "* Visuals of the data that helped you in determining the direction you chose to go with the data\n",
    "\n",
    "Remember: Basic statistical visualizations may not suffice, especially if the statistics have no bearing on your findings.\n",
    "\n",
    "**Requirements for all visualizations:**\n",
    "1. Title & axes labels are mandatory —every chart must call plt.title() and label both axes (or legend if an axis is categorical).\n",
    "2. One chart per code cell —no sub-plots or multiple figures in the same cell.\n",
    "3. Chart type must fit the data —pick an appropriate visual (bar for categories, line for trends, scatter for correlation, etc.).\n",
    "4. Legible & uncluttered —limit categories/points so labels don’t overlap; use consistent font sizes and plt.tight_layout() when needed.\n",
    "5. Consistent styling —use a coherent colour palette across all three charts and include a legend when more than one series appears."
   ]
  },
  {
   "cell_type": "markdown",
   "id": "b95fbd99",
   "metadata": {},
   "source": [
    "### Chart for Finding 1"
   ]
  },
  {
   "cell_type": "code",
   "execution_count": 74,
   "id": "2721ad3c",
   "metadata": {},
   "outputs": [
    {
     "data": {
      "image/png": "[encoded data removed]",
      "text/plain": [
       "<Figure size 800x500 with 1 Axes>"
      ]
     },
     "metadata": {},
     "output_type": "display_data"
    }
   ],
   "source": [
    "# e.g. df.plot(kind='bar'); plt.title('...')\n",
    "\n",
    "# Chart for Finding 1: Finland's ladder score vs top 5 countries in 2024\n",
    "import matplotlib.pyplot as plt\n",
    "\n",
    "top5 = world_happiness_df_clean.sort_values(by='ladder_score', ascending=False).head(5)\n",
    "\n",
    "plt.figure(figsize=(8, 5))\n",
    "plt.bar(top5['country'], top5['ladder_score'], color='orange')\n",
    "\n",
    "plt.title('Top 5 Countries by Happiness Score (2024)', fontsize=14)\n",
    "plt.xlabel('Country', fontsize=12)\n",
    "plt.ylabel('Happiness Score', fontsize=12)\n",
    "plt.tight_layout()\n",
    "plt.show()"
   ]
  },
  {
   "cell_type": "markdown",
   "id": "bcb1ec6c",
   "metadata": {},
   "source": [
    "### Chart for Finding 2"
   ]
  },
  {
   "cell_type": "code",
   "execution_count": 75,
   "id": "94bba702",
   "metadata": {},
   "outputs": [
    {
     "data": {
      "image/png": "[encoded data removed]",
      "text/plain": [
       "<Figure size 800x500 with 1 Axes>"
      ]
     },
     "metadata": {},
     "output_type": "display_data"
    }
   ],
   "source": [
    "# e.g. df.plot(kind='bar'); plt.title('...')\n",
    "import matplotlib.pyplot as plt\n",
    "\n",
    "# Chart for Finding 2: Average contribution of each positive factor to happiness\n",
    "positive_factors = ['gdp', 'social_support', 'life_expectancy', 'freedom', 'generosity', 'corruption']\n",
    "avg_contributions = world_happiness_df_clean[positive_factors].mean().sort_values(ascending=False)\n",
    "\n",
    "plt.figure(figsize=(8, 5))\n",
    "avg_contributions.plot(kind='bar', color='lightgreen')\n",
    "\n",
    "plt.title('Average Contribution of Positive Factors to Happiness (2024)', fontsize=14)\n",
    "plt.xlabel('Factor', fontsize=12)\n",
    "plt.ylabel('Average Contribution', fontsize=12)\n",
    "plt.xticks(rotation=0) \n",
    "plt.tight_layout()\n",
    "plt.show()"
   ]
  },
  {
   "cell_type": "markdown",
   "id": "7a11877b",
   "metadata": {},
   "source": [
    "### Chart for Finding 3"
   ]
  },
  {
   "cell_type": "code",
   "execution_count": 76,
   "id": "3efb6b48",
   "metadata": {},
   "outputs": [
    {
     "data": {
      "image/png": "[encoded data removed]",
      "text/plain": [
       "<Figure size 600x400 with 1 Axes>"
      ]
     },
     "metadata": {},
     "output_type": "display_data"
    }
   ],
   "source": [
    "# e.g. df.plot(kind='bar'); plt.title('...')\n",
    "import matplotlib.pyplot as plt\n",
    "\n",
    "# Chart for Finding 3: Distribution of countries above vs below global average happiness\n",
    "\n",
    "global_avg = world_happiness_df_clean['ladder_score'].mean()\n",
    "above_avg = (world_happiness_df_clean['ladder_score'] > global_avg).sum()\n",
    "below_avg = (world_happiness_df_clean['ladder_score'] <= global_avg).sum()\n",
    "\n",
    "# Prepare the data\n",
    "counts = pd.Series({'Above Average': above_avg, 'Below Average': below_avg})\n",
    "\n",
    "plt.figure(figsize=(6, 4))\n",
    "counts.plot(kind='bar', color=['lightgreen', 'lightcoral'])\n",
    "\n",
    "plt.title('Countries Above vs Below Global Average Happiness Score (2024)', fontsize=14)\n",
    "plt.xlabel('Happiness Category', fontsize=12)\n",
    "plt.ylabel('Number of Countries', fontsize=12)\n",
    "plt.xticks(rotation=0)\n",
    "plt.tight_layout()\n",
    "plt.show()"
   ]
  },
  {
   "cell_type": "markdown",
   "id": "2d834e00-0825-4811-a2ef-7386aef98058",
   "metadata": {},
   "source": [
    "#### Q4  Rubric – Visual Communication\n",
    "\n",
    "The section requires **three** separate charts (one per finding).  \n",
    "Each chart is worth **6 pts**, and 2 pts are reserved for code hygiene.\n",
    "\n",
    "| For **each** chart | What we’re looking for | Pts |\n",
    "|--------------------|-----------------------|-----|\n",
    "| **Technical correctness** | Chart executes without error; chosen type matches the data | **2** |\n",
    "| **Annotation quality** | Descriptive title **and** properly labelled axes (legend if needed) | **2** |\n",
    "| **Clarity & alignment** | Readable layout (no label overlap, sensible scales) **and** the graphic clearly supports its finding | **2** |\n",
    "| **Subtotal per chart** |   | **6 pts** |\n",
    "\n",
    "**3 charts × 6 pts = 18 pts**\n",
    "\n",
    "| Overall notebook | Criteria | Pts |\n",
    "|------------------|----------|-----|\n",
    "| **Code hygiene** | One chart per cell, consistent styling, tidy comments | **2 pts** |\n",
    "\n",
    "| **Section total** |   | **20 pts** |\n",
    "\n"
   ]
  },
  {
   "cell_type": "markdown",
   "id": "c0ac2931",
   "metadata": {},
   "source": [
    "## Q5  Reproducibility & reflection 💯 (15 pts)"
   ]
  },
  {
   "cell_type": "markdown",
   "id": "ef48aa69",
   "metadata": {},
   "source": [
    "### 5a Sample SQL\n",
    "\n",
    "Using SQL only, a technique to get a sample of the data.  This can be done any way you want.\n",
    "\n",
    "You must describe what the SQL is doing and why that SQL logic is returning a sample (subset) of the data."
   ]
  },
  {
   "cell_type": "markdown",
   "id": "e434a861-91a8-4ad0-b5b4-dd0b994ebf94",
   "metadata": {},
   "source": [
    "### 5 a  Sample SQL (basic proficiency)\n",
    "\n",
    "Write **one** `SELECT` statement against the `project.db` SQLite file you created.  your SQL statement will return a smaller dataset. This can be done by using one of three options:  \n",
    "\n",
    "* filter rows with a `WHERE` clause  \n",
    "* limit the output with `LIMIT n`  \n",
    "* perform a simple aggregation with `GROUP BY` (e.g., `COUNT(*)`, `AVG()`, or `SUM()`)\n",
    "\n",
    "The query should reproduce—or directly support—**any numeric result** you cited in Findings 1-3.\n",
    "\n",
    "1. Paste the SQL in a code block below, assigning it to a variable.\n",
    "2. Reference that SQL in your read_sql statement.\n",
    "\n"
   ]
  },
  {
   "cell_type": "code",
   "execution_count": 77,
   "id": "d3115acd-1d2d-49f2-b0c6-1963c42d2dbc",
   "metadata": {},
   "outputs": [],
   "source": [
    "# sql string goes here\n",
    "sql_sample = \"\"\"\n",
    "SELECT country, ladder_score\n",
    "FROM world_happiness_2024\n",
    "ORDER BY ladder_score DESC\n",
    "LIMIT 1;\n",
    "\"\"\""
   ]
  },
  {
   "cell_type": "code",
   "execution_count": 78,
   "id": "85724792",
   "metadata": {},
   "outputs": [
    {
     "data": {
      "text/html": [
       "<div>\n",
       "<style scoped>\n",
       "    .dataframe tbody tr th:only-of-type {\n",
       "        vertical-align: middle;\n",
       "    }\n",
       "\n",
       "    .dataframe tbody tr th {\n",
       "        vertical-align: top;\n",
       "    }\n",
       "\n",
       "    .dataframe thead th {\n",
       "        text-align: right;\n",
       "    }\n",
       "</style>\n",
       "<table border=\"1\" class=\"dataframe\">\n",
       "  <thead>\n",
       "    <tr style=\"text-align: right;\">\n",
       "      <th></th>\n",
       "      <th>country</th>\n",
       "      <th>ladder_score</th>\n",
       "    </tr>\n",
       "  </thead>\n",
       "  <tbody>\n",
       "    <tr>\n",
       "      <th>0</th>\n",
       "      <td>Finland</td>\n",
       "      <td>7.741</td>\n",
       "    </tr>\n",
       "  </tbody>\n",
       "</table>\n",
       "</div>"
      ],
      "text/plain": [
       "   country  ladder_score\n",
       "0  Finland         7.741"
      ]
     },
     "execution_count": 78,
     "metadata": {},
     "output_type": "execute_result"
    }
   ],
   "source": [
    "import pandas as pd, sqlite3\n",
    "con = sqlite3.connect('project.db')\n",
    "# sample_df = pd.read_sql(sql string from prior code block, con)\n",
    "\n",
    "sample_df = pd.read_sql(sql_sample, con)\n",
    "sample_df"
   ]
  },
  {
   "cell_type": "markdown",
   "id": "07d2954c-d003-44c2-98c2-c3c2cbb1f276",
   "metadata": {},
   "source": [
    "*(This SQL query directly supports Finding 1, which identified the top-ranking country by happiness score. It retrives the country with the highest happiness score 'ladder_score', by sorting all entires in descending order and limit the result to just the top one using 'LIMIT 1'.)*"
   ]
  },
  {
   "cell_type": "markdown",
   "id": "960de56d",
   "metadata": {},
   "source": [
    "### 5b Limitations / next steps"
   ]
  },
  {
   "cell_type": "markdown",
   "id": "eff8c8f5",
   "metadata": {},
   "source": [
    "_In 2–3 sentences, discuss data limitations, assumptions, and future work._"
   ]
  },
  {
   "cell_type": "markdown",
   "id": "93eb8758-35bf-40fc-8748-e16a9f37ae65",
   "metadata": {},
   "source": [
    "A limitation of this dataset is that it only includes happiness data for 2024, so I can’t track changes or trends over time. This analysis assumes that happiness scores and their contributing factors are measured consistently across countries. Future work could involve comparing changes across multiple years to identify trends."
   ]
  },
  {
   "cell_type": "markdown",
   "id": "b5d87365-be4d-4877-807b-19644d0044dd",
   "metadata": {},
   "source": [
    "### Q5 Rubric – SQL & Reflection\n",
    "\n",
    "| Sub-task | Criteria | Pts |\n",
    "|----------|----------|-----|\n",
    "| **5 a  SQL query & result** | Query executes without error on `project.db` | **3** |\n",
    "| | Uses **at least one** of: `WHERE`, `LIMIT`, `GROUP BY` + aggregate | **4** |\n",
    "| | Result reproduced in a DataFrame | **3** |\n",
    "| **Subtotal 5 a** |   | **10** |\n",
    "| **5 b  Limitations & next steps** | Identifies ≥ 2 data limitations **and** ≥ 1 future improvement | **3** |\n",
    "| | Clear, concise writing (≤ 150 words; no jargon) | **2** |\n",
    "| **Subtotal 5 b** |   | **5** |\n",
    "| **Section total** |   | **15 pts** |\n"
   ]
  }
 ],
 "metadata": {
  "kernelspec": {
   "display_name": "Python 3 (ipykernel)",
   "language": "python",
   "name": "python3"
  },
  "language_info": {
   "codemirror_mode": {
    "name": "ipython",
    "version": 3
   },
   "file_extension": ".py",
   "mimetype": "text/x-python",
   "name": "python",
   "nbconvert_exporter": "python",
   "pygments_lexer": "ipython3",
   "version": "3.12.5"
  }
 },
 "nbformat": 4,
 "nbformat_minor": 5
}
