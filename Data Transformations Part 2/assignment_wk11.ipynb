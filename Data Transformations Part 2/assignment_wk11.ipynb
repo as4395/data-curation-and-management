{
 "cells": [
  {
   "cell_type": "code",
   "execution_count": 1,
   "id": "27657a03-e162-4a7b-9d37-4ffbb893c0e6",
   "metadata": {},
   "outputs": [
    {
     "name": "stdout",
     "output_type": "stream",
     "text": [
      "Path to dataset files: /Users/abhiramsingireddy/.cache/kagglehub/datasets/wduckett/moneyball-mlb-stats-19622012/versions/1\n"
     ]
    }
   ],
   "source": [
    "import kagglehub\n",
    "\n",
    "# Download latest version\n",
    "path = kagglehub.dataset_download(\"wduckett/moneyball-mlb-stats-19622012\")\n",
    "\n",
    "print(\"Path to dataset files:\", path)"
   ]
  },
  {
   "cell_type": "code",
   "execution_count": 2,
   "id": "f33adb51-1085-457e-a8ca-a382bfd7ce2f",
   "metadata": {},
   "outputs": [],
   "source": [
    "import numpy as np\n",
    "import pandas as pd\n",
    "import pathlib"
   ]
  },
  {
   "cell_type": "code",
   "execution_count": 3,
   "id": "5d4c9a55-1d44-4c4a-89b6-eec881af0982",
   "metadata": {},
   "outputs": [],
   "source": [
    "mlb_dir = pathlib.Path(r\"/Users/abhiramsingireddy/.cache/kagglehub/datasets/wduckett/moneyball-mlb-stats-19622012/versions/1\")\n",
    "mlb_data = mlb_dir/\"baseball.csv\"\n",
    "\n",
    "mlb_df = pd.read_csv(mlb_data)"
   ]
  },
  {
   "cell_type": "markdown",
   "id": "2ab4cec3-ba92-41c0-8155-0347ae065d65",
   "metadata": {},
   "source": [
    "## Step 1 (1 point): Create three small datasets and concatenate them into one.\n",
    "\n",
    "1. Create a DataFrame of all rows where the Year is 2012\n",
    "2. Create a DataFrame of all rows where the Year is 2011\n",
    "3. Create a DataFrame of all rows where the Year is 2010\n",
    "4. concatenate those into one DataFrame.\n",
    "5. Use ignore_index = True to ensure that the index is consistent "
   ]
  },
  {
   "cell_type": "code",
   "execution_count": 80,
   "id": "a0e0d34a-db5b-4de3-a5c3-65bc4bdb450e",
   "metadata": {},
   "outputs": [],
   "source": [
    "# 1. Create a DataFrame for each year\n",
    "df_2012 = mlb_df[mlb_df['Year'] == 2012]"
   ]
  },
  {
   "cell_type": "code",
   "execution_count": 81,
   "id": "cf05120c-9294-4a53-9e45-cdcb10fde675",
   "metadata": {},
   "outputs": [],
   "source": [
    "# 2. Create a DataFrame of all rows where the year is 2011\n",
    "df_2011 = mlb_df[mlb_df['Year'] == 2011]"
   ]
  },
  {
   "cell_type": "code",
   "execution_count": 82,
   "id": "fd680881-9b0b-4280-9657-91dac5240a0d",
   "metadata": {},
   "outputs": [],
   "source": [
    "# 3. Create a DataFrame of all rows where the year is 2012\n",
    "df_2010 = mlb_df[mlb_df['Year'] == 2010]"
   ]
  },
  {
   "cell_type": "code",
   "execution_count": 83,
   "id": "28005998-fb2f-4df7-82bd-c7e2a2a84995",
   "metadata": {},
   "outputs": [],
   "source": [
    "#4. and #5. Concatenate them into one DataFrame and use ignore_index = True to ensure that the index is consistent\n",
    "mlb_10_12 = pd.concat([df_2012, df_2011, df_2010], ignore_index=True)"
   ]
  },
  {
   "cell_type": "code",
   "execution_count": 84,
   "id": "4073b216-abd9-490a-8ce0-e7eb4467b86c",
   "metadata": {},
   "outputs": [
    {
     "data": {
      "text/html": [
       "<div>\n",
       "<style scoped>\n",
       "    .dataframe tbody tr th:only-of-type {\n",
       "        vertical-align: middle;\n",
       "    }\n",
       "\n",
       "    .dataframe tbody tr th {\n",
       "        vertical-align: top;\n",
       "    }\n",
       "\n",
       "    .dataframe thead th {\n",
       "        text-align: right;\n",
       "    }\n",
       "</style>\n",
       "<table border=\"1\" class=\"dataframe\">\n",
       "  <thead>\n",
       "    <tr style=\"text-align: right;\">\n",
       "      <th></th>\n",
       "      <th>Team</th>\n",
       "      <th>League</th>\n",
       "      <th>Year</th>\n",
       "      <th>RS</th>\n",
       "      <th>RA</th>\n",
       "      <th>W</th>\n",
       "      <th>OBP</th>\n",
       "      <th>SLG</th>\n",
       "      <th>BA</th>\n",
       "      <th>Playoffs</th>\n",
       "      <th>RankSeason</th>\n",
       "      <th>RankPlayoffs</th>\n",
       "      <th>G</th>\n",
       "      <th>OOBP</th>\n",
       "      <th>OSLG</th>\n",
       "    </tr>\n",
       "  </thead>\n",
       "  <tbody>\n",
       "    <tr>\n",
       "      <th>0</th>\n",
       "      <td>ARI</td>\n",
       "      <td>NL</td>\n",
       "      <td>2012</td>\n",
       "      <td>734</td>\n",
       "      <td>688</td>\n",
       "      <td>81</td>\n",
       "      <td>0.328</td>\n",
       "      <td>0.418</td>\n",
       "      <td>0.259</td>\n",
       "      <td>0</td>\n",
       "      <td>NaN</td>\n",
       "      <td>NaN</td>\n",
       "      <td>162</td>\n",
       "      <td>0.317</td>\n",
       "      <td>0.415</td>\n",
       "    </tr>\n",
       "    <tr>\n",
       "      <th>1</th>\n",
       "      <td>ATL</td>\n",
       "      <td>NL</td>\n",
       "      <td>2012</td>\n",
       "      <td>700</td>\n",
       "      <td>600</td>\n",
       "      <td>94</td>\n",
       "      <td>0.320</td>\n",
       "      <td>0.389</td>\n",
       "      <td>0.247</td>\n",
       "      <td>1</td>\n",
       "      <td>4.0</td>\n",
       "      <td>5.0</td>\n",
       "      <td>162</td>\n",
       "      <td>0.306</td>\n",
       "      <td>0.378</td>\n",
       "    </tr>\n",
       "    <tr>\n",
       "      <th>2</th>\n",
       "      <td>BAL</td>\n",
       "      <td>AL</td>\n",
       "      <td>2012</td>\n",
       "      <td>712</td>\n",
       "      <td>705</td>\n",
       "      <td>93</td>\n",
       "      <td>0.311</td>\n",
       "      <td>0.417</td>\n",
       "      <td>0.247</td>\n",
       "      <td>1</td>\n",
       "      <td>5.0</td>\n",
       "      <td>4.0</td>\n",
       "      <td>162</td>\n",
       "      <td>0.315</td>\n",
       "      <td>0.403</td>\n",
       "    </tr>\n",
       "    <tr>\n",
       "      <th>3</th>\n",
       "      <td>BOS</td>\n",
       "      <td>AL</td>\n",
       "      <td>2012</td>\n",
       "      <td>734</td>\n",
       "      <td>806</td>\n",
       "      <td>69</td>\n",
       "      <td>0.315</td>\n",
       "      <td>0.415</td>\n",
       "      <td>0.260</td>\n",
       "      <td>0</td>\n",
       "      <td>NaN</td>\n",
       "      <td>NaN</td>\n",
       "      <td>162</td>\n",
       "      <td>0.331</td>\n",
       "      <td>0.428</td>\n",
       "    </tr>\n",
       "    <tr>\n",
       "      <th>4</th>\n",
       "      <td>CHC</td>\n",
       "      <td>NL</td>\n",
       "      <td>2012</td>\n",
       "      <td>613</td>\n",
       "      <td>759</td>\n",
       "      <td>61</td>\n",
       "      <td>0.302</td>\n",
       "      <td>0.378</td>\n",
       "      <td>0.240</td>\n",
       "      <td>0</td>\n",
       "      <td>NaN</td>\n",
       "      <td>NaN</td>\n",
       "      <td>162</td>\n",
       "      <td>0.335</td>\n",
       "      <td>0.424</td>\n",
       "    </tr>\n",
       "  </tbody>\n",
       "</table>\n",
       "</div>"
      ],
      "text/plain": [
       "  Team League  Year   RS   RA   W    OBP    SLG     BA  Playoffs  RankSeason  \\\n",
       "0  ARI     NL  2012  734  688  81  0.328  0.418  0.259         0         NaN   \n",
       "1  ATL     NL  2012  700  600  94  0.320  0.389  0.247         1         4.0   \n",
       "2  BAL     AL  2012  712  705  93  0.311  0.417  0.247         1         5.0   \n",
       "3  BOS     AL  2012  734  806  69  0.315  0.415  0.260         0         NaN   \n",
       "4  CHC     NL  2012  613  759  61  0.302  0.378  0.240         0         NaN   \n",
       "\n",
       "   RankPlayoffs    G   OOBP   OSLG  \n",
       "0           NaN  162  0.317  0.415  \n",
       "1           5.0  162  0.306  0.378  \n",
       "2           4.0  162  0.315  0.403  \n",
       "3           NaN  162  0.331  0.428  \n",
       "4           NaN  162  0.335  0.424  "
      ]
     },
     "execution_count": 84,
     "metadata": {},
     "output_type": "execute_result"
    }
   ],
   "source": [
    "mlb_10_12.head()"
   ]
  },
  {
   "cell_type": "markdown",
   "id": "db7305db-5fb7-498c-a667-2f2fba4761df",
   "metadata": {},
   "source": [
    "## Step 2 (2 points): Find and Update the Team Codes to be more user-friendly\n",
    "\n",
    "1. Search on the internet a dataset that has the team codes and their full name\n",
    "2. Create a CSV of that data and save it for access in your Jupyter Notebook\n",
    "3. read that CSV into your code\n",
    "4. Merge the data created in step one with this data.  Make sure to include the full name as a column in the dataset.\n",
    "    1. Make sure there aren't any duplicate columns (if applicable)\n",
    "5. Identify any missing team name data and fill in accordingly"
   ]
  },
  {
   "cell_type": "code",
   "execution_count": 85,
   "id": "9d976f31-8d98-4493-a109-1be5b71e6979",
   "metadata": {},
   "outputs": [],
   "source": [
    "# 1. Search the internet of a dataset that has the team codes and their full name \n",
    "import pandas as pd\n",
    "import pathlib"
   ]
  },
  {
   "cell_type": "code",
   "execution_count": 86,
   "id": "15c40655-3e78-42ce-818a-e7403904bd06",
   "metadata": {},
   "outputs": [],
   "source": [
    "# 2. Create a CSV of that data and save it for access in your Jupyter Notebook\n",
    "team_map_path = pathlib.Path(\"/Users/abhiramsingireddy/Documents/DCM/SFBB MLB Team Map - SFBB Team Map.csv\")"
   ]
  },
  {
   "cell_type": "code",
   "execution_count": 87,
   "id": "02398390-1ede-4681-a2b1-2fda85af3d87",
   "metadata": {},
   "outputs": [],
   "source": [
    "# 3. Read that CSV into your code\n",
    "team_map_df = pd.read_csv(team_map_path)"
   ]
  },
  {
   "cell_type": "code",
   "execution_count": 88,
   "id": "e93e9091-c791-4d36-84e0-4f48f9fbb614",
   "metadata": {},
   "outputs": [
    {
     "name": "stdout",
     "output_type": "stream",
     "text": [
      "  SFBBTEAM FDTEAM DKTEAM BBREFTEAM YAHOOTEAM FANPROSTEAM BASEBALLPRESSTEAM  \\\n",
      "0      ARI    ARI    ARI       ARI       ARI         ARI               ARI   \n",
      "1      ATL    ATL    ATL       ATL       ATL         ATL               ATL   \n",
      "2      BAL    BAL    BAL       BAL       BAL         BAL               BAL   \n",
      "3      BOS    BOS    BOS       BOS       BOS         BOS               BOS   \n",
      "4      CHC    CHC    CHC       CHC       CHC         CHC               CHC   \n",
      "\n",
      "  FANGRAPHSTEAM ESPNTEAM BPTEAM ROTOWIRETEAM         ROSTERRESOURCEURL  \\\n",
      "0  Diamondbacks      ARI    ARI          ARI  MLB-ARIZONA-DIAMONDBACKS   \n",
      "1        Braves      ATL    ATL          ATL        MLB-ATLANTA-BRAVES   \n",
      "2       Orioles      BAL    BAL          BAL     MLB-BALTIMORE-ORIOLES   \n",
      "3       Red Sox      BOS    BOS          BOS        MLB-BOSTON-RED-SOX   \n",
      "4          Cubs      CHC    CHN          CHC          MLB-CHICAGO-CUBS   \n",
      "\n",
      "  RETROSHEET FANGRAPHSABBR   FANGRAPHSRR CBSTEAM  \n",
      "0        ARI           ARI  diamondbacks     ARI  \n",
      "1        ATL           ATL        braves     ATL  \n",
      "2        BAL           BAL       orioles     BAL  \n",
      "3        BOS           BOS       red-sox     BOS  \n",
      "4        CHN           CHC          cubs     CHC  \n"
     ]
    }
   ],
   "source": [
    "print(team_map_df.head())"
   ]
  },
  {
   "cell_type": "code",
   "execution_count": 89,
   "id": "84329eb5-125a-426a-a53c-05738db9275a",
   "metadata": {},
   "outputs": [],
   "source": [
    "# 4. Merge the data created in step one with this data.  Make sure to include the full name as a column in the dataset.\n",
    "\n",
    "team_codes_df = team_map_df[['SFBBTEAM', 'FANGRAPHSTEAM']].rename(\n",
    "    columns={'SFBBTEAM': 'Team', 'FANGRAPHSTEAM': 'Full_Team_Name'}\n",
    ")\n",
    "\n",
    "mlb_merged = pd.merge(mlb_10_12, team_codes_df, on='Team', how='left')\n"
   ]
  },
  {
   "cell_type": "code",
   "execution_count": 90,
   "id": "d2ced817-3076-4254-9559-76a1ef7c1969",
   "metadata": {},
   "outputs": [],
   "source": [
    "# 4.1 Make sure there aren't any duplicate columns (if applicable)"
   ]
  },
  {
   "cell_type": "code",
   "execution_count": 91,
   "id": "ccc3a9ff-9c2f-40c3-bb46-c400d27ba36b",
   "metadata": {},
   "outputs": [],
   "source": [
    "mlb_merged = mlb_merged.loc[:, ~mlb_merged.columns.duplicated()]"
   ]
  },
  {
   "cell_type": "code",
   "execution_count": 92,
   "id": "9bccb794-e54e-49af-8df5-3f859d3b849a",
   "metadata": {},
   "outputs": [],
   "source": [
    "# 5. Identify any missing team name data and fill in accordingly"
   ]
  },
  {
   "cell_type": "code",
   "execution_count": 93,
   "id": "64206f33-27ce-4d4b-ac7c-ef4577d6bd55",
   "metadata": {},
   "outputs": [
    {
     "name": "stdout",
     "output_type": "stream",
     "text": [
      "Missing team codes: ['KCR' 'SDP' 'SFG' 'TBR' 'WSN' 'FLA']\n"
     ]
    }
   ],
   "source": [
    "missing_teams = mlb_merged[mlb_merged['Full_Team_Name'].isnull()]['Team'].unique()\n",
    "print(\"Missing team codes:\", missing_teams)"
   ]
  },
  {
   "cell_type": "code",
   "execution_count": 94,
   "id": "3a660f4b-d378-4212-a1f1-3b7c8e423c59",
   "metadata": {},
   "outputs": [],
   "source": [
    "team_name_fixes = {\n",
    "    'KCR': 'Royals',\n",
    "    'SDP': 'Padres',\n",
    "    'SFG': 'Giants',\n",
    "    'TBR': 'Rays',          \n",
    "    'WSN': 'Nationals',     \n",
    "    'FLA': 'Marlins'        \n",
    "}"
   ]
  },
  {
   "cell_type": "code",
   "execution_count": 95,
   "id": "3b8c8e68-7267-4bbd-a53c-9df120b910de",
   "metadata": {},
   "outputs": [],
   "source": [
    "mlb_merged['Full_Team_Name'] = mlb_merged.apply(lambda row: team_name_fixes.get(row['Team'], row['Full_Team_Name']),axis=1)"
   ]
  },
  {
   "cell_type": "code",
   "execution_count": 96,
   "id": "8733c2f1-8f4f-47cf-a0db-9138601cddb4",
   "metadata": {},
   "outputs": [
    {
     "data": {
      "text/html": [
       "<div>\n",
       "<style scoped>\n",
       "    .dataframe tbody tr th:only-of-type {\n",
       "        vertical-align: middle;\n",
       "    }\n",
       "\n",
       "    .dataframe tbody tr th {\n",
       "        vertical-align: top;\n",
       "    }\n",
       "\n",
       "    .dataframe thead th {\n",
       "        text-align: right;\n",
       "    }\n",
       "</style>\n",
       "<table border=\"1\" class=\"dataframe\">\n",
       "  <thead>\n",
       "    <tr style=\"text-align: right;\">\n",
       "      <th></th>\n",
       "      <th>Team</th>\n",
       "      <th>League</th>\n",
       "      <th>Year</th>\n",
       "      <th>RS</th>\n",
       "      <th>RA</th>\n",
       "      <th>W</th>\n",
       "      <th>OBP</th>\n",
       "      <th>SLG</th>\n",
       "      <th>BA</th>\n",
       "      <th>Playoffs</th>\n",
       "      <th>RankSeason</th>\n",
       "      <th>RankPlayoffs</th>\n",
       "      <th>G</th>\n",
       "      <th>OOBP</th>\n",
       "      <th>OSLG</th>\n",
       "      <th>Full_Team_Name</th>\n",
       "    </tr>\n",
       "  </thead>\n",
       "  <tbody>\n",
       "    <tr>\n",
       "      <th>0</th>\n",
       "      <td>ARI</td>\n",
       "      <td>NL</td>\n",
       "      <td>2012</td>\n",
       "      <td>734</td>\n",
       "      <td>688</td>\n",
       "      <td>81</td>\n",
       "      <td>0.328</td>\n",
       "      <td>0.418</td>\n",
       "      <td>0.259</td>\n",
       "      <td>0</td>\n",
       "      <td>NaN</td>\n",
       "      <td>NaN</td>\n",
       "      <td>162</td>\n",
       "      <td>0.317</td>\n",
       "      <td>0.415</td>\n",
       "      <td>Diamondbacks</td>\n",
       "    </tr>\n",
       "    <tr>\n",
       "      <th>1</th>\n",
       "      <td>ATL</td>\n",
       "      <td>NL</td>\n",
       "      <td>2012</td>\n",
       "      <td>700</td>\n",
       "      <td>600</td>\n",
       "      <td>94</td>\n",
       "      <td>0.320</td>\n",
       "      <td>0.389</td>\n",
       "      <td>0.247</td>\n",
       "      <td>1</td>\n",
       "      <td>4.0</td>\n",
       "      <td>5.0</td>\n",
       "      <td>162</td>\n",
       "      <td>0.306</td>\n",
       "      <td>0.378</td>\n",
       "      <td>Braves</td>\n",
       "    </tr>\n",
       "    <tr>\n",
       "      <th>2</th>\n",
       "      <td>BAL</td>\n",
       "      <td>AL</td>\n",
       "      <td>2012</td>\n",
       "      <td>712</td>\n",
       "      <td>705</td>\n",
       "      <td>93</td>\n",
       "      <td>0.311</td>\n",
       "      <td>0.417</td>\n",
       "      <td>0.247</td>\n",
       "      <td>1</td>\n",
       "      <td>5.0</td>\n",
       "      <td>4.0</td>\n",
       "      <td>162</td>\n",
       "      <td>0.315</td>\n",
       "      <td>0.403</td>\n",
       "      <td>Orioles</td>\n",
       "    </tr>\n",
       "    <tr>\n",
       "      <th>3</th>\n",
       "      <td>BOS</td>\n",
       "      <td>AL</td>\n",
       "      <td>2012</td>\n",
       "      <td>734</td>\n",
       "      <td>806</td>\n",
       "      <td>69</td>\n",
       "      <td>0.315</td>\n",
       "      <td>0.415</td>\n",
       "      <td>0.260</td>\n",
       "      <td>0</td>\n",
       "      <td>NaN</td>\n",
       "      <td>NaN</td>\n",
       "      <td>162</td>\n",
       "      <td>0.331</td>\n",
       "      <td>0.428</td>\n",
       "      <td>Red Sox</td>\n",
       "    </tr>\n",
       "    <tr>\n",
       "      <th>4</th>\n",
       "      <td>CHC</td>\n",
       "      <td>NL</td>\n",
       "      <td>2012</td>\n",
       "      <td>613</td>\n",
       "      <td>759</td>\n",
       "      <td>61</td>\n",
       "      <td>0.302</td>\n",
       "      <td>0.378</td>\n",
       "      <td>0.240</td>\n",
       "      <td>0</td>\n",
       "      <td>NaN</td>\n",
       "      <td>NaN</td>\n",
       "      <td>162</td>\n",
       "      <td>0.335</td>\n",
       "      <td>0.424</td>\n",
       "      <td>Cubs</td>\n",
       "    </tr>\n",
       "    <tr>\n",
       "      <th>...</th>\n",
       "      <td>...</td>\n",
       "      <td>...</td>\n",
       "      <td>...</td>\n",
       "      <td>...</td>\n",
       "      <td>...</td>\n",
       "      <td>...</td>\n",
       "      <td>...</td>\n",
       "      <td>...</td>\n",
       "      <td>...</td>\n",
       "      <td>...</td>\n",
       "      <td>...</td>\n",
       "      <td>...</td>\n",
       "      <td>...</td>\n",
       "      <td>...</td>\n",
       "      <td>...</td>\n",
       "      <td>...</td>\n",
       "    </tr>\n",
       "    <tr>\n",
       "      <th>85</th>\n",
       "      <td>STL</td>\n",
       "      <td>NL</td>\n",
       "      <td>2010</td>\n",
       "      <td>736</td>\n",
       "      <td>641</td>\n",
       "      <td>86</td>\n",
       "      <td>0.332</td>\n",
       "      <td>0.402</td>\n",
       "      <td>0.263</td>\n",
       "      <td>0</td>\n",
       "      <td>NaN</td>\n",
       "      <td>NaN</td>\n",
       "      <td>162</td>\n",
       "      <td>0.319</td>\n",
       "      <td>0.387</td>\n",
       "      <td>Cardinals</td>\n",
       "    </tr>\n",
       "    <tr>\n",
       "      <th>86</th>\n",
       "      <td>TBR</td>\n",
       "      <td>AL</td>\n",
       "      <td>2010</td>\n",
       "      <td>802</td>\n",
       "      <td>649</td>\n",
       "      <td>96</td>\n",
       "      <td>0.333</td>\n",
       "      <td>0.403</td>\n",
       "      <td>0.247</td>\n",
       "      <td>1</td>\n",
       "      <td>2.0</td>\n",
       "      <td>4.0</td>\n",
       "      <td>162</td>\n",
       "      <td>0.308</td>\n",
       "      <td>0.404</td>\n",
       "      <td>Rays</td>\n",
       "    </tr>\n",
       "    <tr>\n",
       "      <th>87</th>\n",
       "      <td>TEX</td>\n",
       "      <td>AL</td>\n",
       "      <td>2010</td>\n",
       "      <td>787</td>\n",
       "      <td>687</td>\n",
       "      <td>90</td>\n",
       "      <td>0.338</td>\n",
       "      <td>0.419</td>\n",
       "      <td>0.276</td>\n",
       "      <td>1</td>\n",
       "      <td>7.0</td>\n",
       "      <td>2.0</td>\n",
       "      <td>162</td>\n",
       "      <td>0.319</td>\n",
       "      <td>0.390</td>\n",
       "      <td>Rangers</td>\n",
       "    </tr>\n",
       "    <tr>\n",
       "      <th>88</th>\n",
       "      <td>TOR</td>\n",
       "      <td>AL</td>\n",
       "      <td>2010</td>\n",
       "      <td>755</td>\n",
       "      <td>728</td>\n",
       "      <td>85</td>\n",
       "      <td>0.312</td>\n",
       "      <td>0.454</td>\n",
       "      <td>0.248</td>\n",
       "      <td>0</td>\n",
       "      <td>NaN</td>\n",
       "      <td>NaN</td>\n",
       "      <td>162</td>\n",
       "      <td>0.326</td>\n",
       "      <td>0.405</td>\n",
       "      <td>Blue Jays</td>\n",
       "    </tr>\n",
       "    <tr>\n",
       "      <th>89</th>\n",
       "      <td>WSN</td>\n",
       "      <td>NL</td>\n",
       "      <td>2010</td>\n",
       "      <td>655</td>\n",
       "      <td>742</td>\n",
       "      <td>69</td>\n",
       "      <td>0.318</td>\n",
       "      <td>0.390</td>\n",
       "      <td>0.250</td>\n",
       "      <td>0</td>\n",
       "      <td>NaN</td>\n",
       "      <td>NaN</td>\n",
       "      <td>162</td>\n",
       "      <td>0.330</td>\n",
       "      <td>0.410</td>\n",
       "      <td>Nationals</td>\n",
       "    </tr>\n",
       "  </tbody>\n",
       "</table>\n",
       "<p>90 rows × 16 columns</p>\n",
       "</div>"
      ],
      "text/plain": [
       "   Team League  Year   RS   RA   W    OBP    SLG     BA  Playoffs  RankSeason  \\\n",
       "0   ARI     NL  2012  734  688  81  0.328  0.418  0.259         0         NaN   \n",
       "1   ATL     NL  2012  700  600  94  0.320  0.389  0.247         1         4.0   \n",
       "2   BAL     AL  2012  712  705  93  0.311  0.417  0.247         1         5.0   \n",
       "3   BOS     AL  2012  734  806  69  0.315  0.415  0.260         0         NaN   \n",
       "4   CHC     NL  2012  613  759  61  0.302  0.378  0.240         0         NaN   \n",
       "..  ...    ...   ...  ...  ...  ..    ...    ...    ...       ...         ...   \n",
       "85  STL     NL  2010  736  641  86  0.332  0.402  0.263         0         NaN   \n",
       "86  TBR     AL  2010  802  649  96  0.333  0.403  0.247         1         2.0   \n",
       "87  TEX     AL  2010  787  687  90  0.338  0.419  0.276         1         7.0   \n",
       "88  TOR     AL  2010  755  728  85  0.312  0.454  0.248         0         NaN   \n",
       "89  WSN     NL  2010  655  742  69  0.318  0.390  0.250         0         NaN   \n",
       "\n",
       "    RankPlayoffs    G   OOBP   OSLG Full_Team_Name  \n",
       "0            NaN  162  0.317  0.415   Diamondbacks  \n",
       "1            5.0  162  0.306  0.378         Braves  \n",
       "2            4.0  162  0.315  0.403        Orioles  \n",
       "3            NaN  162  0.331  0.428        Red Sox  \n",
       "4            NaN  162  0.335  0.424           Cubs  \n",
       "..           ...  ...    ...    ...            ...  \n",
       "85           NaN  162  0.319  0.387      Cardinals  \n",
       "86           4.0  162  0.308  0.404           Rays  \n",
       "87           2.0  162  0.319  0.390        Rangers  \n",
       "88           NaN  162  0.326  0.405      Blue Jays  \n",
       "89           NaN  162  0.330  0.410      Nationals  \n",
       "\n",
       "[90 rows x 16 columns]"
      ]
     },
     "execution_count": 96,
     "metadata": {},
     "output_type": "execute_result"
    }
   ],
   "source": [
    "mlb_merged"
   ]
  },
  {
   "cell_type": "markdown",
   "id": "047b1311-6156-411e-91b8-d7b2defe5f35",
   "metadata": {},
   "source": [
    "## Step 3 (1 point): Create 5 bins based on the the Batting Average (BA) column\n",
    "\n",
    "1. Save the value in a new column called \"BA_bins\"\n",
    "2. Get the value counts for each of the bins.  Sort by the bins from lowest to highest"
   ]
  },
  {
   "cell_type": "code",
   "execution_count": 97,
   "id": "7528df27-a8bc-4b31-8406-62f980510284",
   "metadata": {},
   "outputs": [],
   "source": [
    "# 1. Create 5 bins based on the Batting Average (BA) column and save the value in a new column called \"BA_bins\"\n",
    "\n",
    "mlb_merged['BA_bins'] = pd.cut(mlb_merged['BA'], bins=5)"
   ]
  },
  {
   "cell_type": "code",
   "execution_count": 98,
   "id": "c10e8b52-02c2-439c-bf60-b3277494aee8",
   "metadata": {},
   "outputs": [
    {
     "data": {
      "text/plain": [
       "BA_bins\n",
       "(0.233, 0.243]    13\n",
       "(0.243, 0.253]    30\n",
       "(0.253, 0.263]    25\n",
       "(0.263, 0.273]    11\n",
       "(0.273, 0.283]    11\n",
       "Name: count, dtype: int64"
      ]
     },
     "execution_count": 98,
     "metadata": {},
     "output_type": "execute_result"
    }
   ],
   "source": [
    "# 2. Get the value counts for each of the bins. Sort by the bins from lowest to highest\n",
    "ba_bin_counts = mlb_merged['BA_bins'].value_counts().sort_index()\n",
    "\n",
    "ba_bin_counts"
   ]
  },
  {
   "cell_type": "markdown",
   "id": "4d8779c0-f5ba-4392-a09b-c2e68495962a",
   "metadata": {},
   "source": [
    "## Step 4 (1 point):  Rank the teams in the highest of the 5 bins.\n",
    "\n",
    "Print out the team, their batting average, and rank in order.  The highest batting average is ranked #1."
   ]
  },
  {
   "cell_type": "code",
   "execution_count": 99,
   "id": "d0e1e134-b6de-4d5f-81e6-10fd3979ef38",
   "metadata": {},
   "outputs": [],
   "source": [
    "highest_bin = mlb_merged['BA_bins'].max()\n",
    "top_ba_teams = mlb_merged[mlb_merged['BA_bins'] == highest_bin].copy()"
   ]
  },
  {
   "cell_type": "code",
   "execution_count": 100,
   "id": "7a52ee7c-5cb7-4e7f-ba94-a968f47ce9db",
   "metadata": {},
   "outputs": [],
   "source": [
    "top_ba_teams['BA_Rank'] = top_ba_teams['BA'].rank(ascending=False, method='min')"
   ]
  },
  {
   "cell_type": "code",
   "execution_count": 101,
   "id": "81ab7c77-6447-4467-8665-c8faf18fe571",
   "metadata": {},
   "outputs": [],
   "source": [
    "top_ba_teams_sorted = top_ba_teams.sort_values(by='BA_Rank')"
   ]
  },
  {
   "cell_type": "code",
   "execution_count": 102,
   "id": "73058582-86dd-4912-82d0-29d372a598c5",
   "metadata": {},
   "outputs": [
    {
     "name": "stdout",
     "output_type": "stream",
     "text": [
      "   Team     BA  BA_Rank\n",
      "57  TEX  0.283      1.0\n",
      "33  BOS  0.280      2.0\n",
      "39  DET  0.277      3.0\n",
      "87  TEX  0.276      4.0\n",
      "42  KCR  0.275      5.0\n",
      "8   COL  0.274      6.0\n",
      "12  LAA  0.274      6.0\n",
      "72  KCR  0.274      6.0\n",
      "27  TEX  0.273      9.0\n",
      "55  STL  0.273      9.0\n",
      "76  MIN  0.273      9.0\n"
     ]
    }
   ],
   "source": [
    "print(top_ba_teams_sorted[['Team', 'BA', 'BA_Rank']])"
   ]
  }
 ],
 "metadata": {
  "kernelspec": {
   "display_name": "Python 3 (ipykernel)",
   "language": "python",
   "name": "python3"
  },
  "language_info": {
   "codemirror_mode": {
    "name": "ipython",
    "version": 3
   },
   "file_extension": ".py",
   "mimetype": "text/x-python",
   "name": "python",
   "nbconvert_exporter": "python",
   "pygments_lexer": "ipython3",
   "version": "3.12.5"
  }
 },
 "nbformat": 4,
 "nbformat_minor": 5
}
