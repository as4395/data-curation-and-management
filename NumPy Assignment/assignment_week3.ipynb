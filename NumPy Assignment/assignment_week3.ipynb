{
 "cells": [
  {
   "cell_type": "code",
   "execution_count": 1,
   "id": "90d53caf-89f1-4532-ac64-ae83692649f8",
   "metadata": {},
   "outputs": [],
   "source": [
    "import numpy as np"
   ]
  },
  {
   "cell_type": "markdown",
   "id": "1671dfa5-517e-4bdd-8e7b-50ec00f99b2b",
   "metadata": {},
   "source": [
    "### Exercise 1: Creating Arrays and Using Attributes\n",
    "\n",
    "Create a 1D array of numbers from 1 to 10 using np.arange().\n",
    "\n",
    "Create a 2D array of shape (3, 4) filled with ones using np.ones().\n",
    "\n",
    "Use the shape and dtype attributes to display the shape and data type of both arrays."
   ]
  },
  {
   "cell_type": "code",
   "execution_count": 92,
   "id": "cd58e6a1-30b7-44e1-a829-fb2834ea930d",
   "metadata": {},
   "outputs": [
    {
     "name": "stdout",
     "output_type": "stream",
     "text": [
      "[ 1  2  3  4  5  6  7  8  9 10]\n",
      "Shape of np_arange: (10,)\n",
      "Data type of np_arange: int64\n",
      "\n",
      "[[1. 1. 1. 1.]\n",
      " [1. 1. 1. 1.]\n",
      " [1. 1. 1. 1.]]\n",
      "Shape of np_ones: (3, 4)\n",
      "Data type of np_ones: float64\n"
     ]
    }
   ],
   "source": [
    "import numpy as np \n",
    "\n",
    "np_arange = np.arange(1, 11)\n",
    "print(np_arange)\n",
    "print(\"Shape of np_arange:\", np_arange.shape)\n",
    "print(\"Data type of np_arange:\", np_arange.dtype)\n",
    "print()\n",
    "np_ones = np.ones((3, 4))\n",
    "print(np_ones)\n",
    "print(\"Shape of np_ones:\", np_ones.shape)\n",
    "print(\"Data type of np_ones:\", np_ones.dtype)\n"
   ]
  },
  {
   "cell_type": "markdown",
   "id": "6aae7d6a-547e-495e-b35c-ee37080fce90",
   "metadata": {},
   "source": [
    "### Exercise 2: Generating Random Values and Reshaping Arrays\n",
    "\n",
    "Create an array of 10 random integers between 0 and 50 using np.random.randint().\n",
    "\n",
    "Reshape the array into a 2D array with shape (2, 5).\n",
    "\n",
    "Find the minimum and maximum values in the array using the min() and max() methods."
   ]
  },
  {
   "cell_type": "code",
   "execution_count": 14,
   "id": "cd100422-5109-4015-be6d-4db86a05976f",
   "metadata": {},
   "outputs": [],
   "source": [
    "# The first code snippet seperates generating the array and reshaping it into two seperate steps. The second code snippet is more concise.\n",
    "# Both snippets generate the expected output"
   ]
  },
  {
   "cell_type": "code",
   "execution_count": 12,
   "id": "8cdc43bc-6b1d-4b6e-b644-875b2958eba0",
   "metadata": {},
   "outputs": [
    {
     "name": "stdout",
     "output_type": "stream",
     "text": [
      "[45 42 43 20 21 39 30 11 46  8]\n",
      "[[45 42 43 20 21]\n",
      " [39 30 11 46  8]]\n",
      "The min value in the array is 8\n",
      "The max value in the array is 46\n"
     ]
    }
   ],
   "source": [
    "import numpy as np\n",
    "\n",
    "random_array = np.random.randint(0, 50, 10)\n",
    "print(random_array)\n",
    "\n",
    "reshaped_array = random_array.reshape(2, 5)\n",
    "print(reshaped_array)\n",
    "\n",
    "print(\"The min value in the array is\", reshaped_array.min())\n",
    "print(\"The max value in the array is\", reshaped_array.max())\n"
   ]
  },
  {
   "cell_type": "code",
   "execution_count": 13,
   "id": "b7f49b52-5ce2-43eb-8edc-4f085ca34260",
   "metadata": {},
   "outputs": [
    {
     "name": "stdout",
     "output_type": "stream",
     "text": [
      "[[34 40 19 45  5]\n",
      " [32  6 11 38 24]]\n",
      "The min value in the array is 5\n",
      "The max value in the array is 45\n"
     ]
    }
   ],
   "source": [
    "import numpy as np\n",
    "\n",
    "random_array = np.random.randint(0, 50, 10).reshape(2, 5)\n",
    "print(random_array)\n",
    "\n",
    "print(\"The min value in the array is\", random_array.min())\n",
    "print(\"The max value in the array is\", random_array.max())"
   ]
  },
  {
   "cell_type": "markdown",
   "id": "5f0dcdcf-f50c-40b3-bc5e-6ec8dc8a2e89",
   "metadata": {},
   "source": [
    "### Exercise 3: Indexing and Boolean Indexing\n",
    "\n",
    "Create a 2D array from the following list of lists:\n",
    "\n",
    "[[12, 15, 22],\n",
    " [33, 45, 52],\n",
    " [17, 28, 39]]\n",
    "\n",
    "Extract the first row of the array.\n",
    "\n",
    "Extract the element in the second row, third column.\n",
    "\n",
    "Use a boolean index to extract all values greater than 30."
   ]
  },
  {
   "cell_type": "code",
   "execution_count": 9,
   "id": "13ada107-813a-4d9d-9dc9-e3ffd99e19b0",
   "metadata": {},
   "outputs": [
    {
     "name": "stdout",
     "output_type": "stream",
     "text": [
      "[[12 15 22]\n",
      " [33 45 52]\n",
      " [17 28 39]]\n",
      "[12 15 22]\n",
      "52\n",
      "Values greater than 30: [33 45 52 39]\n"
     ]
    }
   ],
   "source": [
    "import numpy as np\n",
    "\n",
    "data = [[12, 15, 22], [33, 45, 52], [17, 28, 39]]\n",
    "array_2d = np.array(data)\n",
    "print(array_2d)\n",
    "\n",
    "first_row = array_2d[0]\n",
    "print(first_row)\n",
    "\n",
    "element = array_2d[1, 2]\n",
    "print(element)\n",
    "\n",
    "gt_30 = array_2d > 30\n",
    "print(\"Values greater than 30:\", array_2d[gt_30])\n"
   ]
  },
  {
   "cell_type": "markdown",
   "id": "038e782d-b4bf-4289-845b-cc743568fcd7",
   "metadata": {},
   "source": [
    "### Exercise 4: Broadcasting and Mathematical Operations\n",
    "\n",
    "Create a 1D array with 5 random values between 0 and 10 using np.random.rand().\n",
    "\n",
    "Create another 1D array of 5 ones.\n",
    "\n",
    "Perform the following operations:\n",
    "\n",
    "Addition: Add the two arrays.\n",
    "\n",
    "Multiplication: Multiply the two arrays element-wise.\n",
    "\n",
    "Use broadcasting to add 5 to each element of the first array."
   ]
  },
  {
   "cell_type": "code",
   "execution_count": 3,
   "id": "63430597-0575-4fb5-a5e6-8823ea91018b",
   "metadata": {},
   "outputs": [
    {
     "name": "stdout",
     "output_type": "stream",
     "text": [
      "[9 3 3 6 9]\n",
      "[1. 1. 1. 1. 1.]\n",
      "Adding the arrays: [10.  4.  4.  7. 10.]\n",
      "Muliplying the arrays: [9. 3. 3. 6. 9.]\n",
      "Broadcasting: [14  8  8 11 14]\n"
     ]
    }
   ],
   "source": [
    "import numpy as np\n",
    "\n",
    "random_array2 = np.random.randint(0, 10, 5)\n",
    "print(random_array2)\n",
    "\n",
    "ones_array = np.ones(5)\n",
    "print(ones_array)\n",
    "\n",
    "print(\"Adding the arrays:\", random_array2 + ones_array)\n",
    "\n",
    "print(\"Muliplying the arrays:\", random_array2 * ones_array)\n",
    "\n",
    "random_array2[0:5] += 5\n",
    "print(\"Broadcasting:\", random_array2)\n"
   ]
  },
  {
   "cell_type": "markdown",
   "id": "e105f6b9-c733-4583-9aed-9dea40193931",
   "metadata": {},
   "source": [
    "### Exercise 5: Using NumPy Ufuncs\n",
    "\n",
    "Create a 1D array of numbers from 1 to 16 using np.arange().\n",
    "\n",
    "Use the sqrt() function to calculate the square root of each element in the array.\n",
    "\n",
    "Use the sum() function to calculate the sum of all elements in the array.\n",
    "\n",
    "Use the mean() function to calculate the mean of the array."
   ]
  },
  {
   "cell_type": "code",
   "execution_count": 98,
   "id": "8a627f79-7363-4ba2-9e51-ba48378a6e4f",
   "metadata": {},
   "outputs": [
    {
     "name": "stdout",
     "output_type": "stream",
     "text": [
      "[ 1  2  3  4  5  6  7  8  9 10 11 12 13 14 15 16]\n",
      "sqrt() of the array elements: [1.         1.41421356 1.73205081 2.         2.23606798 2.44948974\n",
      " 2.64575131 2.82842712 3.         3.16227766 3.31662479 3.46410162\n",
      " 3.60555128 3.74165739 3.87298335 4.        ]\n",
      "sum() of the array elements: 136\n",
      "mean() of the array elements: 8.5\n"
     ]
    }
   ],
   "source": [
    "import numpy as np\n",
    "\n",
    "np_arange = np.arange(1, 17)\n",
    "print(np_arange)\n",
    "\n",
    "print(\"sqrt() of the array elements:\", np.sqrt(np_arange))\n",
    "\n",
    "print(\"sum() of the array elements:\", np.sum(np_arange))\n",
    "\n",
    "print(\"mean() of the array elements:\", np.mean(np_arange))"
   ]
  },
  {
   "cell_type": "markdown",
   "id": "38862a85-462e-4e6a-963e-ab7701391300",
   "metadata": {},
   "source": [
    "### Bonus Challenge (Optional):\n",
    "\n",
    "Create a 2D array with shape (4, 4) using np.linspace() to generate values from 1 to 16.\n",
    "\n",
    "Reshape it into a 4x4 matrix.\n",
    "\n",
    "Calculate the sum of each row and each column using sum(axis=1) and sum(axis=0), respectively."
   ]
  },
  {
   "cell_type": "code",
   "execution_count": 7,
   "id": "b5fe2597-0b74-42db-a96c-87dca48f074b",
   "metadata": {},
   "outputs": [
    {
     "name": "stdout",
     "output_type": "stream",
     "text": [
      "[[ 1.  2.  3.  4.]\n",
      " [ 5.  6.  7.  8.]\n",
      " [ 9. 10. 11. 12.]\n",
      " [13. 14. 15. 16.]]\n",
      "Sum of each row:  [10. 26. 42. 58.]\n",
      "Sum of each column:  [28. 32. 36. 40.]\n"
     ]
    }
   ],
   "source": [
    "import numpy as np\n",
    "\n",
    "array = np.linspace(1, 16, 16).reshape(4, 4)\n",
    "\n",
    "print(array)\n",
    "\n",
    "row_sums = array.sum(axis=1)\n",
    "column_sums = array.sum(axis=0)\n",
    "\n",
    "print(\"Sum of each row: \", row_sums)\n",
    "print(\"Sum of each column: \", column_sums)"
   ]
  }
 ],
 "metadata": {
  "kernelspec": {
   "display_name": "Python 3 (ipykernel)",
   "language": "python",
   "name": "python3"
  },
  "language_info": {
   "codemirror_mode": {
    "name": "ipython",
    "version": 3
   },
   "file_extension": ".py",
   "mimetype": "text/x-python",
   "name": "python",
   "nbconvert_exporter": "python",
   "pygments_lexer": "ipython3",
   "version": "3.12.5"
  }
 },
 "nbformat": 4,
 "nbformat_minor": 5
}
