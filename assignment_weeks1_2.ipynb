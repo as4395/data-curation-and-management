{
 "cells": [
  {
   "cell_type": "markdown",
   "id": "04fac8eb-bf91-44cb-8c38-6de61c1c9df5",
   "metadata": {},
   "source": [
    "### Question 1: Number guessing game\n",
    "\n",
    "* Generate a random number between 1 and 100 using the random module.\n",
    "\n",
    "* Allow the user up to 10 guesses to find the correct number.\n",
    "\n",
    "* After each guess, tell the user if their guess is:\n",
    "    * Too high\n",
    "    * Too low\n",
    "    * Correct\n",
    "\n",
    "* If the user guesses the number correctly, break out of the loop and congratulate them.\n",
    "\n",
    "* If the guess is invalid (e.g., not within the range of 1 to 100), continue to the next iteration and ask the user to guess again.\n",
    "\n",
    "* If the user does not guess the number within 10 attempts, end the game and reveal the correct number.\n"
   ]
  },
  {
   "cell_type": "markdown",
   "id": "85a04bd0",
   "metadata": {},
   "source": [
    "## This script generates a random number between 1 and 100 and allows the user up to 10 attempts to guess it, providing feedback on whether  their guess is too high, too low, or correct. If the user guesses correctly, the game ends, but if they use all 10 attempts, the correct number is revealed. Error-handling is in place to prevent invalid inputs.\n",
    "### **Line 3** Generates a random number between 1 and 100 using the `randint()` method from the `random` module\n",
    "### **Line 4** Sets the maximum number of attempts\n",
    "### **Line 9** Prompts the user to enter a guess, displaying the number of attempts and attempts left\n",
    "### **Lines 11-12** Validate that the input is a number\n",
    "### **Lines 17-18** Check if the number is between 1 and 100\n",
    "### **Lines 21-24** Check the guess against the target number\n",
    "### **Lines 25-27** Congratulates the user for entering the target number and breaks out of the loop\n",
    "### **Line 29** Reveals the target number\n",
    "### **Line 31** Runs the function to start the game"
   ]
  },
  {
   "cell_type": "code",
   "execution_count": 1,
   "id": "65123da9",
   "metadata": {},
   "outputs": [
    {
     "name": "stdout",
     "output_type": "stream",
     "text": [
      "Guess the chosen number between 1 and 100. You have 10 attempts.\n",
      "Invalid input! Please enter a valid number.\n",
      "Too high! Try again.\n",
      "Too high! Try again.\n",
      "Too high! Try again.\n",
      "Too low! Try again.\n",
      "Too low! Try again.\n",
      "Too low! Try again.\n",
      "Too low! Try again.\n",
      "Too low! Try again.\n",
      "Too high! Try again.\n",
      "Out of attmepts! The correct number was 53.\n"
     ]
    }
   ],
   "source": [
    "def number_guessing_game():\n",
    "    import random\n",
    "    target_number = random.randint(1, 100)\n",
    "    attempts = 10\n",
    "    \n",
    "    print(\"Guess the chosen number between 1 and 100. You have 10 attempts.\")\n",
    "    \n",
    "    for attempt in range(1, attempts + 1):\n",
    "        guess = input(f\"Attempt {attempt}/{attempts}: Enter your guess: \")\n",
    "        \n",
    "        if not guess.isdigit():\n",
    "            print(\"Invalid input! Please enter a valid number.\")\n",
    "            continue\n",
    "        \n",
    "        guess = int(guess)\n",
    "        \n",
    "        if guess < 1 or guess > 100:\n",
    "            print(\"Invalid input! The number must be between 1 and 100.\")\n",
    "            continue\n",
    "        \n",
    "        if guess > target_number:\n",
    "            print(\"Too high! Try again.\")\n",
    "        elif guess < target_number:\n",
    "            print(\"Too low! Try again.\")\n",
    "        else:\n",
    "            print(f\"Congratulations! You guessed the correct number!\")\n",
    "            break\n",
    "    \n",
    "    print(f\"Out of attmepts! The correct number was {target_number}.\")\n",
    "\n",
    "number_guessing_game()"
   ]
  },
  {
   "cell_type": "markdown",
   "id": "9e13441c-87df-4c6d-ba72-f0d3981c5a33",
   "metadata": {},
   "source": [
    "### Question 2: Lists and Sets\n",
    "\n",
    "* Create a list called fruits that contains the following items: \"apple\", \"banana\", \"cherry\", \"date\", and \"fig\".\n",
    "* Create a second, empty list called fruits2\n",
    "* append the first item in the fruits list to fruits2\n",
    "* append the last item, using negative indexing, in the fruits list to fruits2\n",
    "* append the fruit \"grape\" to the fruits list\n",
    "* Insert the fruit \"orange\" at the second position (index 1) of the fruits list.\n",
    "* Remove \"date\" from the first list and append it to the fruits2 list.\n",
    "* Slice and print the first three items from the list.\n",
    "* Check if \"banana\" is in the list, and return an appropriate message identifying if \"banana\" is  or is not in the fruits list.\n",
    "\n",
    "* Convert each list into a set\n",
    "* Using set operators, identify the elements in the fruits set that are not in the fruits2 set"
   ]
  },
  {
   "cell_type": "markdown",
   "id": "bc8e8850",
   "metadata": {},
   "source": [
    "## This script uses list operations (adding, removing, slicing, and checking membership) and set operations to compare lists\n",
    "### **Line 1** Creates a list called `fruits` containing `['apple', 'banana', 'cherry', 'date', 'fig']`\n",
    "### **Line 3** Creates an empty list called `fruits2`\n",
    "### **Line 4** Appends the first item in `fruits` to `fruits2` using indexing\n",
    "### **Line 5** Appends the last item in `fruits` using negative indexing\n",
    "### **Line 6** Adds `'grape'` to `fruits` using `.append()`\n",
    "### **Line 7** Inserts `'orange'` at the first index using `.insert()`\n",
    "### **Lines 8-9** Removes `'date'` from `fruits` using `.remove()` and appends it to `fruits2`\n",
    "### **Line 11** Slices `fruits` and prints first three elements of the `fruits` list\n",
    "### **Lines 13-16** Check if `'banana'` is in `fruits` and prints an appropriate message\n",
    "### **Line 18** Converts both lists to sets\n",
    "### **Line 20** Identifies elements in `fruits` that are not in `fruits2` using the difference operator (`-`)"
   ]
  },
  {
   "cell_type": "code",
   "execution_count": 13,
   "id": "51ace336",
   "metadata": {},
   "outputs": [
    {
     "name": "stdout",
     "output_type": "stream",
     "text": [
      "The first three fruits are ['apple', 'orange', 'banana']\n",
      "Banana is in the list.\n",
      "Elements in fruits not in fruits2: {'cherry', 'banana', 'grape', 'orange'}\n"
     ]
    }
   ],
   "source": [
    "fruits = [\"apple\", \"banana\", \"cherry\", \"date\", \"fig\"]\n",
    "\n",
    "fruits2 = []\n",
    "fruits2.append(fruits[0])\n",
    "fruits2.append(fruits[-1])              \n",
    "fruits.append(\"grape\")\n",
    "fruits.insert(1, \"orange\")\n",
    "fruits.remove(\"date\")\n",
    "fruits2.append(\"date\")\n",
    "\n",
    "print(\"The first three fruits are\", fruits[:3])\n",
    "\n",
    "if \"banana\" in fruits:\n",
    "    print(\"Banana is in the list.\")\n",
    "else:\n",
    "    print(\"Banana is not in the list.\")\n",
    "\n",
    "fruits_set, fruits2_set = set(fruits), set(fruits2)\n",
    "\n",
    "print(\"Elements in fruits not in fruits2:\", fruits_set - fruits2_set)"
   ]
  },
  {
   "cell_type": "markdown",
   "id": "bed9ba37-7c2e-4e13-a9d0-5abcadecd3bb",
   "metadata": {},
   "source": [
    "### Question 3: Lists and Dictionary Comprehensions\n",
    "\n",
    "* Create the following lists only using list comprehensions:\n",
    "    * Create a range of numbers from 1 to 50 (inclusive) using a range() function\n",
    "    * Create a 2nd list, using the first list, that includes only numbers evenly divisible by 5\n",
    "\n",
    "Using the following only using a dictionary comprehension:\n",
    "\n",
    "word_list = [\"python\", \"list\", \"comprehension\", \"filter\", \"map\", \"lambda\", \"function\", \"advanced\", \"assignment\", \"beginner\"]\n",
    "\n",
    "* create a dictionary with the word from the word list as the key and the length of the word as the value\n",
    "\n",
    "\n",
    "\n",
    "\n",
    "\n"
   ]
  },
  {
   "cell_type": "markdown",
   "id": "e784dcbd",
   "metadata": {},
   "source": [
    "## This script uses list comprehension to create and filter lists and dictionary comprehension to connect words with their lengths\n",
    "### **Line 1** creates a list of numbers from 1 to 50 (inclusive) using the `range()` function\n",
    "### **Line 3** creates a list of numbers divisible by 5 from the first list\n",
    "### **Line 5** creates a list of words using the elements `python`, `list`, `comprehension`, `filter`, `map`, `lambda`, `function`, `advanced`,  `assignment` and `beginner`\n",
    "### **Line 7** creates a dictionary with words as keys and word lengths as values\n",
    "### **Lines 9-11** prints the results of the exercise"
   ]
  },
  {
   "cell_type": "code",
   "execution_count": 3,
   "id": "fbcc4046",
   "metadata": {},
   "outputs": [
    {
     "name": "stdout",
     "output_type": "stream",
     "text": [
      "[1, 2, 3, 4, 5, 6, 7, 8, 9, 10, 11, 12, 13, 14, 15, 16, 17, 18, 19, 20, 21, 22, 23, 24, 25, 26, 27, 28, 29, 30, 31, 32, 33, 34, 35, 36, 37, 38, 39, 40, 41, 42, 43, 44, 45, 46, 47, 48, 49, 50]\n",
      "[5, 10, 15, 20, 25, 30, 35, 40, 45, 50]\n",
      "{'python': 6, 'list': 4, 'comprehension': 13, 'filter': 6, 'map': 3, 'lambda': 6, 'function': 8, 'advanced': 8, 'assignment': 10, 'beginner': 8}\n"
     ]
    }
   ],
   "source": [
    "numbers = [n for n in range(1, 51)]\n",
    "\n",
    "divisible_by_5 = [n for n in numbers if n % 5 == 0]\n",
    "\n",
    "word_list = [\"python\", \"list\", \"comprehension\", \"filter\", \"map\", \"lambda\", \"function\", \"advanced\", \"assignment\", \"beginner\"]\n",
    "\n",
    "word_length_dictionary = {word: len(word) for word in word_list}\n",
    "\n",
    "print(numbers)\n",
    "print(divisible_by_5)\n",
    "print(word_length_dictionary)"
   ]
  },
  {
   "cell_type": "markdown",
   "id": "665bf148-b0c3-48bf-b079-4093c63fe783",
   "metadata": {},
   "source": [
    "### Question 4: Palindrome Function\n",
    "\n",
    "Define a function called is_palindrome that takes one argument, a string.\n",
    "\n",
    "The function should check if the input string is a palindrome. A palindrome is a word or phrase that reads the same backward as forward (e.g., \"racecar\", \"madam\", \"level\", \"A man a plan a canal Panama\").\n",
    "\n",
    "The function should:\n",
    "Remove any spaces and convert the string to lowercase to ensure the check is case-insensitive.\n",
    "\n",
    "The function cannot:\n",
    "Use slicing ([::-1]) to reverse the string; instead, use a loop to build the reversed string."
   ]
  },
  {
   "cell_type": "markdown",
   "id": "92a96b58",
   "metadata": {},
   "source": [
    "## This script defines a function to check if a given string is a palindrome, while ensuring case insensitivity and removing spaces\n",
    "### **Line 1** defines the function `is_palindrome` using the `(text)` argument which takes in a string as input\n",
    "### **Line 2** removes any spaces and converts the text to lowercase\n",
    "### **Line 7-8** use a loop to reverse the string\n",
    "### **Line 10** Compares the `clean_text` string to the `reversed_text` and returns `True` if they match, otherwise `False`\n",
    "### **Line 13-17** Run test cases to verify the function on palindrome and non-palindrome inputs"
   ]
  },
  {
   "cell_type": "code",
   "execution_count": 9,
   "id": "0672478c",
   "metadata": {},
   "outputs": [
    {
     "name": "stdout",
     "output_type": "stream",
     "text": [
      "True\n",
      "True\n",
      "True\n",
      "True\n",
      "False\n"
     ]
    }
   ],
   "source": [
    "def is_palindrome(text):\n",
    "    clean_text = text.replace(\" \", \"\").lower()\n",
    "    \n",
    "    reversed_text = \"\"\n",
    "    for letter in clean_text:\n",
    "        reversed_text = letter + reversed_text\n",
    "    \n",
    "    return clean_text == reversed_text\n",
    "\n",
    "# Test cases\n",
    "print(is_palindrome(\"racecar\")) # True\n",
    "print(is_palindrome(\"madam\")) # True\n",
    "print(is_palindrome(\"level\")) # True\n",
    "print(is_palindrome(\"A man a plan a canal Panama\")) # True\n",
    "print(is_palindrome(\"drone\")) # False"
   ]
  },
  {
   "cell_type": "markdown",
   "id": "9dc694c4-5f4a-4031-b63e-31fe8f1818ce",
   "metadata": {},
   "source": [
    "### Question 5: Lambda Function\n",
    "\n",
    "Using the names list provided in the cell below, write a lambda function that sorts the names in alphabetical order by their last name.  \n",
    "\n",
    "* No preprocessing can be done.  The entire process must be done using just the lambda function."
   ]
  },
  {
   "cell_type": "markdown",
   "id": "9b77d63e",
   "metadata": {},
   "source": [
    "## This script uses the lambda function to sort the elements in the `names_list` in alphabetical order by last name\n",
    "### **Line 1** prints the `names_list`\n",
    "### **Line 3** sorts the `names_list` using the lambda function, with each element being sorted based on the split and the `lower()` function is used for case insensitivity\n",
    "### **Line 6** prints the sorted `names_list`"
   ]
  },
  {
   "cell_type": "code",
   "execution_count": 5,
   "id": "0560712a-d05b-4a66-abe1-3c491134340c",
   "metadata": {},
   "outputs": [],
   "source": [
    "names_list = ['Richard Thomas',\n",
    " 'Steven White',\n",
    " 'Thomas Garcia',\n",
    " 'Charles Taylor',\n",
    " 'Mary Martin',\n",
    " 'Elizabeth Perez',\n",
    " 'Matthew Brown',\n",
    " 'Karen White',\n",
    " 'James Hernandez',\n",
    " 'Jessica Perez',\n",
    " 'William Lopez',\n",
    " 'Joseph Rodriguez',\n",
    " 'Mark Smith',\n",
    " 'John Jackson',\n",
    " 'Mark Miller',\n",
    " 'Karen Anderson',\n",
    " 'Matthew Anderson',\n",
    " 'Mark Johnson',\n",
    " 'Michael Thomas',\n",
    " 'Andrew Johnson',\n",
    " 'Linda Rodriguez',\n",
    " 'Mary Thomas',\n",
    " 'Mark Smith',\n",
    " 'Patricia White',\n",
    " 'William Johnson']"
   ]
  },
  {
   "cell_type": "code",
   "execution_count": 14,
   "id": "64f6ac9f",
   "metadata": {},
   "outputs": [
    {
     "name": "stdout",
     "output_type": "stream",
     "text": [
      "['Karen Anderson', 'Matthew Anderson', 'Matthew Brown', 'Thomas Garcia', 'James Hernandez', 'John Jackson', 'Mark Johnson', 'Andrew Johnson', 'William Johnson', 'William Lopez', 'Mary Martin', 'Mark Miller', 'Elizabeth Perez', 'Jessica Perez', 'Joseph Rodriguez', 'Linda Rodriguez', 'Mark Smith', 'Mark Smith', 'Charles Taylor', 'Richard Thomas', 'Michael Thomas', 'Mary Thomas', 'Steven White', 'Karen White', 'Patricia White']\n",
      "Sorted List:  ['Karen Anderson', 'Matthew Anderson', 'Matthew Brown', 'Thomas Garcia', 'James Hernandez', 'John Jackson', 'Mark Johnson', 'Andrew Johnson', 'William Johnson', 'William Lopez', 'Mary Martin', 'Mark Miller', 'Elizabeth Perez', 'Jessica Perez', 'Joseph Rodriguez', 'Linda Rodriguez', 'Mark Smith', 'Mark Smith', 'Charles Taylor', 'Richard Thomas', 'Michael Thomas', 'Mary Thomas', 'Steven White', 'Karen White', 'Patricia White']\n"
     ]
    }
   ],
   "source": [
    "print(names_list) \n",
    "\n",
    "names_list.sort(key=lambda name: name.split()[-1].lower())\n",
    "\n",
    "# Print sorted names\n",
    "print(\"Sorted List: \", names_list)"
   ]
  }
 ],
 "metadata": {
  "kernelspec": {
   "display_name": "Python 3",
   "language": "python",
   "name": "python3"
  },
  "language_info": {
   "codemirror_mode": {
    "name": "ipython",
    "version": 3
   },
   "file_extension": ".py",
   "mimetype": "text/x-python",
   "name": "python",
   "nbconvert_exporter": "python",
   "pygments_lexer": "ipython3",
   "version": "3.12.5"
  }
 },
 "nbformat": 4,
 "nbformat_minor": 5
}
