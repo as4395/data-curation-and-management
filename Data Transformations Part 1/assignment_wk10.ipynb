{
 "cells": [
  {
   "cell_type": "code",
   "execution_count": 29,
   "id": "06a64d85-eecc-4572-bfdc-23aa49d67307",
   "metadata": {},
   "outputs": [],
   "source": [
    "import numpy as np\n",
    "import pandas as pd\n",
    "import pathlib"
   ]
  },
  {
   "cell_type": "code",
   "execution_count": 30,
   "id": "659f452c-ddd8-4b01-9c6a-3c9c0c4aa240",
   "metadata": {},
   "outputs": [
    {
     "name": "stdout",
     "output_type": "stream",
     "text": [
      "Path to dataset files: /Users/abhiramsingireddy/.cache/kagglehub/datasets/sudalairajkumar/daily-temperature-of-major-cities/versions/1\n"
     ]
    }
   ],
   "source": [
    "import kagglehub\n",
    "\n",
    "# Download latest version\n",
    "path = kagglehub.dataset_download(\"sudalairajkumar/daily-temperature-of-major-cities\")\n",
    "\n",
    "print(\"Path to dataset files:\", path)"
   ]
  },
  {
   "cell_type": "markdown",
   "id": "f8293a6d-fa29-486f-9b27-df8fd9205bff",
   "metadata": {},
   "source": [
    "*NOTE: low_memory=False forces pandas to read the whole file into memory and then convert it.  This is done because there are mixed data types in the columns.  Rather than pandas chunk the data and guess the data type and cause an issue when reading, pandas is forced to wait until all the data is there and then make the decision.*\n",
    "\n",
    "EX: daily_temps_df = pd.read_csv(\"city_temperature.csv\", low_memory=False)"
   ]
  },
  {
   "cell_type": "markdown",
   "id": "be9fe46f-7bcf-43ea-aaa0-8e364ddfa817",
   "metadata": {},
   "source": [
    "## Step 1 (1 point): Find and clean bad data\n",
    "* Using one of the techniques discussed this week (query, where):\n",
    "    * Create a new data set that only contains the Year 2012\n",
    "    * Identify any bad data in the *Day* column and delete the rows from the DataFrame\n"
   ]
  },
  {
   "cell_type": "code",
   "execution_count": 31,
   "id": "ee7ebf60-2d77-4635-937f-f040184105b1",
   "metadata": {},
   "outputs": [
    {
     "data": {
      "text/html": [
       "<div>\n",
       "<style scoped>\n",
       "    .dataframe tbody tr th:only-of-type {\n",
       "        vertical-align: middle;\n",
       "    }\n",
       "\n",
       "    .dataframe tbody tr th {\n",
       "        vertical-align: top;\n",
       "    }\n",
       "\n",
       "    .dataframe thead th {\n",
       "        text-align: right;\n",
       "    }\n",
       "</style>\n",
       "<table border=\"1\" class=\"dataframe\">\n",
       "  <thead>\n",
       "    <tr style=\"text-align: right;\">\n",
       "      <th></th>\n",
       "      <th>Region</th>\n",
       "      <th>Country</th>\n",
       "      <th>State</th>\n",
       "      <th>City</th>\n",
       "      <th>Month</th>\n",
       "      <th>Day</th>\n",
       "      <th>Year</th>\n",
       "      <th>AvgTemperature</th>\n",
       "    </tr>\n",
       "  </thead>\n",
       "  <tbody>\n",
       "    <tr>\n",
       "      <th>0</th>\n",
       "      <td>Africa</td>\n",
       "      <td>Algeria</td>\n",
       "      <td>NaN</td>\n",
       "      <td>Algiers</td>\n",
       "      <td>1</td>\n",
       "      <td>1</td>\n",
       "      <td>1995</td>\n",
       "      <td>64.2</td>\n",
       "    </tr>\n",
       "    <tr>\n",
       "      <th>1</th>\n",
       "      <td>Africa</td>\n",
       "      <td>Algeria</td>\n",
       "      <td>NaN</td>\n",
       "      <td>Algiers</td>\n",
       "      <td>1</td>\n",
       "      <td>2</td>\n",
       "      <td>1995</td>\n",
       "      <td>49.4</td>\n",
       "    </tr>\n",
       "    <tr>\n",
       "      <th>2</th>\n",
       "      <td>Africa</td>\n",
       "      <td>Algeria</td>\n",
       "      <td>NaN</td>\n",
       "      <td>Algiers</td>\n",
       "      <td>1</td>\n",
       "      <td>3</td>\n",
       "      <td>1995</td>\n",
       "      <td>48.8</td>\n",
       "    </tr>\n",
       "    <tr>\n",
       "      <th>3</th>\n",
       "      <td>Africa</td>\n",
       "      <td>Algeria</td>\n",
       "      <td>NaN</td>\n",
       "      <td>Algiers</td>\n",
       "      <td>1</td>\n",
       "      <td>4</td>\n",
       "      <td>1995</td>\n",
       "      <td>46.4</td>\n",
       "    </tr>\n",
       "    <tr>\n",
       "      <th>4</th>\n",
       "      <td>Africa</td>\n",
       "      <td>Algeria</td>\n",
       "      <td>NaN</td>\n",
       "      <td>Algiers</td>\n",
       "      <td>1</td>\n",
       "      <td>5</td>\n",
       "      <td>1995</td>\n",
       "      <td>47.9</td>\n",
       "    </tr>\n",
       "  </tbody>\n",
       "</table>\n",
       "</div>"
      ],
      "text/plain": [
       "   Region  Country State     City  Month  Day  Year  AvgTemperature\n",
       "0  Africa  Algeria   NaN  Algiers      1    1  1995            64.2\n",
       "1  Africa  Algeria   NaN  Algiers      1    2  1995            49.4\n",
       "2  Africa  Algeria   NaN  Algiers      1    3  1995            48.8\n",
       "3  Africa  Algeria   NaN  Algiers      1    4  1995            46.4\n",
       "4  Africa  Algeria   NaN  Algiers      1    5  1995            47.9"
      ]
     },
     "execution_count": 31,
     "metadata": {},
     "output_type": "execute_result"
    }
   ],
   "source": [
    "file_path = pathlib.Path(path) / \"city_temperature.csv\"\n",
    "daily_temps_df = pd.read_csv(file_path, low_memory=False)\n",
    "daily_temps_df.head()"
   ]
  },
  {
   "cell_type": "code",
   "execution_count": 32,
   "id": "1f07aff7-668f-4fa3-ac0f-e09c38d26c7d",
   "metadata": {},
   "outputs": [
    {
     "data": {
      "text/html": [
       "<div>\n",
       "<style scoped>\n",
       "    .dataframe tbody tr th:only-of-type {\n",
       "        vertical-align: middle;\n",
       "    }\n",
       "\n",
       "    .dataframe tbody tr th {\n",
       "        vertical-align: top;\n",
       "    }\n",
       "\n",
       "    .dataframe thead th {\n",
       "        text-align: right;\n",
       "    }\n",
       "</style>\n",
       "<table border=\"1\" class=\"dataframe\">\n",
       "  <thead>\n",
       "    <tr style=\"text-align: right;\">\n",
       "      <th></th>\n",
       "      <th>Region</th>\n",
       "      <th>Country</th>\n",
       "      <th>State</th>\n",
       "      <th>City</th>\n",
       "      <th>Month</th>\n",
       "      <th>Day</th>\n",
       "      <th>Year</th>\n",
       "      <th>AvgTemperature</th>\n",
       "    </tr>\n",
       "  </thead>\n",
       "  <tbody>\n",
       "    <tr>\n",
       "      <th>6209</th>\n",
       "      <td>Africa</td>\n",
       "      <td>Algeria</td>\n",
       "      <td>NaN</td>\n",
       "      <td>Algiers</td>\n",
       "      <td>1.0</td>\n",
       "      <td>1.0</td>\n",
       "      <td>2012.0</td>\n",
       "      <td>50.4</td>\n",
       "    </tr>\n",
       "    <tr>\n",
       "      <th>6210</th>\n",
       "      <td>Africa</td>\n",
       "      <td>Algeria</td>\n",
       "      <td>NaN</td>\n",
       "      <td>Algiers</td>\n",
       "      <td>1.0</td>\n",
       "      <td>2.0</td>\n",
       "      <td>2012.0</td>\n",
       "      <td>52.3</td>\n",
       "    </tr>\n",
       "    <tr>\n",
       "      <th>6211</th>\n",
       "      <td>Africa</td>\n",
       "      <td>Algeria</td>\n",
       "      <td>NaN</td>\n",
       "      <td>Algiers</td>\n",
       "      <td>1.0</td>\n",
       "      <td>3.0</td>\n",
       "      <td>2012.0</td>\n",
       "      <td>52.8</td>\n",
       "    </tr>\n",
       "    <tr>\n",
       "      <th>6212</th>\n",
       "      <td>Africa</td>\n",
       "      <td>Algeria</td>\n",
       "      <td>NaN</td>\n",
       "      <td>Algiers</td>\n",
       "      <td>1.0</td>\n",
       "      <td>4.0</td>\n",
       "      <td>2012.0</td>\n",
       "      <td>51.0</td>\n",
       "    </tr>\n",
       "    <tr>\n",
       "      <th>6213</th>\n",
       "      <td>Africa</td>\n",
       "      <td>Algeria</td>\n",
       "      <td>NaN</td>\n",
       "      <td>Algiers</td>\n",
       "      <td>1.0</td>\n",
       "      <td>5.0</td>\n",
       "      <td>2012.0</td>\n",
       "      <td>52.9</td>\n",
       "    </tr>\n",
       "  </tbody>\n",
       "</table>\n",
       "</div>"
      ],
      "text/plain": [
       "      Region  Country State     City  Month  Day    Year  AvgTemperature\n",
       "6209  Africa  Algeria   NaN  Algiers    1.0  1.0  2012.0            50.4\n",
       "6210  Africa  Algeria   NaN  Algiers    1.0  2.0  2012.0            52.3\n",
       "6211  Africa  Algeria   NaN  Algiers    1.0  3.0  2012.0            52.8\n",
       "6212  Africa  Algeria   NaN  Algiers    1.0  4.0  2012.0            51.0\n",
       "6213  Africa  Algeria   NaN  Algiers    1.0  5.0  2012.0            52.9"
      ]
     },
     "execution_count": 32,
     "metadata": {},
     "output_type": "execute_result"
    }
   ],
   "source": [
    "temps_2012 = daily_temps_df.query(\"Year == 2012\")\n",
    "temps_2012 = temps_2012.where((temps_2012['Day'] >= 1) & (temps_2012['Day'] <= 31))\n",
    "temps_2012_clean = temps_2012.dropna(subset=['Day'])\n",
    "temps_2012_clean.head()"
   ]
  },
  {
   "cell_type": "markdown",
   "id": "00a14898-942f-4839-8023-f96fd44bc973",
   "metadata": {},
   "source": [
    "## Step 1 (2 points):  Using the three date-related fields, create a new Column called \"Date\".\n",
    "Using the cleaned dataset:\n",
    "* Use the apply() method.\n",
    "* The data type needs to be datetime."
   ]
  },
  {
   "cell_type": "code",
   "execution_count": 33,
   "id": "581056b5-61c6-4f65-bc53-d86e8c610179",
   "metadata": {},
   "outputs": [
    {
     "data": {
      "text/html": [
       "<div>\n",
       "<style scoped>\n",
       "    .dataframe tbody tr th:only-of-type {\n",
       "        vertical-align: middle;\n",
       "    }\n",
       "\n",
       "    .dataframe tbody tr th {\n",
       "        vertical-align: top;\n",
       "    }\n",
       "\n",
       "    .dataframe thead th {\n",
       "        text-align: right;\n",
       "    }\n",
       "</style>\n",
       "<table border=\"1\" class=\"dataframe\">\n",
       "  <thead>\n",
       "    <tr style=\"text-align: right;\">\n",
       "      <th></th>\n",
       "      <th>Year</th>\n",
       "      <th>Month</th>\n",
       "      <th>Day</th>\n",
       "      <th>Date</th>\n",
       "    </tr>\n",
       "  </thead>\n",
       "  <tbody>\n",
       "    <tr>\n",
       "      <th>6209</th>\n",
       "      <td>2012.0</td>\n",
       "      <td>1.0</td>\n",
       "      <td>1.0</td>\n",
       "      <td>2012-01-01</td>\n",
       "    </tr>\n",
       "    <tr>\n",
       "      <th>6210</th>\n",
       "      <td>2012.0</td>\n",
       "      <td>1.0</td>\n",
       "      <td>2.0</td>\n",
       "      <td>2012-01-02</td>\n",
       "    </tr>\n",
       "    <tr>\n",
       "      <th>6211</th>\n",
       "      <td>2012.0</td>\n",
       "      <td>1.0</td>\n",
       "      <td>3.0</td>\n",
       "      <td>2012-01-03</td>\n",
       "    </tr>\n",
       "    <tr>\n",
       "      <th>6212</th>\n",
       "      <td>2012.0</td>\n",
       "      <td>1.0</td>\n",
       "      <td>4.0</td>\n",
       "      <td>2012-01-04</td>\n",
       "    </tr>\n",
       "    <tr>\n",
       "      <th>6213</th>\n",
       "      <td>2012.0</td>\n",
       "      <td>1.0</td>\n",
       "      <td>5.0</td>\n",
       "      <td>2012-01-05</td>\n",
       "    </tr>\n",
       "  </tbody>\n",
       "</table>\n",
       "</div>"
      ],
      "text/plain": [
       "        Year  Month  Day       Date\n",
       "6209  2012.0    1.0  1.0 2012-01-01\n",
       "6210  2012.0    1.0  2.0 2012-01-02\n",
       "6211  2012.0    1.0  3.0 2012-01-03\n",
       "6212  2012.0    1.0  4.0 2012-01-04\n",
       "6213  2012.0    1.0  5.0 2012-01-05"
      ]
     },
     "execution_count": 33,
     "metadata": {},
     "output_type": "execute_result"
    }
   ],
   "source": [
    "temps_2012_clean = temps_2012_clean.copy()\n",
    "temps_2012_clean['Date'] = temps_2012_clean.apply(lambda row: pd.to_datetime(f\"{int(row['Year'])}-{int(row['Month'])}-{int(row['Day'])}\"), axis=1)\n",
    "temps_2012_clean[['Year', 'Month', 'Day', 'Date']].head()"
   ]
  },
  {
   "cell_type": "markdown",
   "id": "b12f7ce3-cbc6-48dc-a0bd-921bc3330b62",
   "metadata": {},
   "source": [
    "## Step 3 (1 point): Map the Day's name based on the date\n",
    "Using the Date value created in step two:\n",
    "* Create a new column called \"Day Name\"\n",
    "* Use the map() method to populate the value from the date using a pandas date function that returns the day name based on a date"
   ]
  },
  {
   "cell_type": "code",
   "execution_count": 34,
   "id": "42922d05-ab6d-40fd-b6b4-9e7e11b2a6ce",
   "metadata": {},
   "outputs": [
    {
     "data": {
      "text/html": [
       "<div>\n",
       "<style scoped>\n",
       "    .dataframe tbody tr th:only-of-type {\n",
       "        vertical-align: middle;\n",
       "    }\n",
       "\n",
       "    .dataframe tbody tr th {\n",
       "        vertical-align: top;\n",
       "    }\n",
       "\n",
       "    .dataframe thead th {\n",
       "        text-align: right;\n",
       "    }\n",
       "</style>\n",
       "<table border=\"1\" class=\"dataframe\">\n",
       "  <thead>\n",
       "    <tr style=\"text-align: right;\">\n",
       "      <th></th>\n",
       "      <th>Date</th>\n",
       "      <th>Day Name</th>\n",
       "    </tr>\n",
       "  </thead>\n",
       "  <tbody>\n",
       "    <tr>\n",
       "      <th>6209</th>\n",
       "      <td>2012-01-01</td>\n",
       "      <td>Sunday</td>\n",
       "    </tr>\n",
       "    <tr>\n",
       "      <th>6210</th>\n",
       "      <td>2012-01-02</td>\n",
       "      <td>Monday</td>\n",
       "    </tr>\n",
       "    <tr>\n",
       "      <th>6211</th>\n",
       "      <td>2012-01-03</td>\n",
       "      <td>Tuesday</td>\n",
       "    </tr>\n",
       "    <tr>\n",
       "      <th>6212</th>\n",
       "      <td>2012-01-04</td>\n",
       "      <td>Wednesday</td>\n",
       "    </tr>\n",
       "    <tr>\n",
       "      <th>6213</th>\n",
       "      <td>2012-01-05</td>\n",
       "      <td>Thursday</td>\n",
       "    </tr>\n",
       "  </tbody>\n",
       "</table>\n",
       "</div>"
      ],
      "text/plain": [
       "           Date   Day Name\n",
       "6209 2012-01-01     Sunday\n",
       "6210 2012-01-02     Monday\n",
       "6211 2012-01-03    Tuesday\n",
       "6212 2012-01-04  Wednesday\n",
       "6213 2012-01-05   Thursday"
      ]
     },
     "execution_count": 34,
     "metadata": {},
     "output_type": "execute_result"
    }
   ],
   "source": [
    "temps_2012_clean['Day Name'] = temps_2012_clean['Date'].map(lambda x: x.day_name())\n",
    "temps_2012_clean[['Date', 'Day Name']].head()"
   ]
  },
  {
   "cell_type": "markdown",
   "id": "2d211501-8ab9-45e5-a6f5-0f1d970484ac",
   "metadata": {},
   "source": [
    "## Step 4 (1point): What was the average temperature on Mondays in January in the US? \n",
    "Use all your knowledge to return the answer."
   ]
  },
  {
   "cell_type": "code",
   "execution_count": 36,
   "id": "1310eb93-29ff-45d7-bc40-0f836e03f3ff",
   "metadata": {},
   "outputs": [
    {
     "name": "stdout",
     "output_type": "stream",
     "text": [
      "The average temperature on Mondays in January in the US was 40.15°F\n"
     ]
    }
   ],
   "source": [
    "monday_january_us = temps_2012_clean.query(\"Country == 'US' and Month == 1 and `Day Name` == 'Monday'\")\n",
    "average_temp = monday_january_us['AvgTemperature'].mean()\n",
    "print(f\"The average temperature on Mondays in January in the US was {average_temp:.2f}°F\")"
   ]
  }
 ],
 "metadata": {
  "kernelspec": {
   "display_name": "Python 3 (ipykernel)",
   "language": "python",
   "name": "python3"
  },
  "language_info": {
   "codemirror_mode": {
    "name": "ipython",
    "version": 3
   },
   "file_extension": ".py",
   "mimetype": "text/x-python",
   "name": "python",
   "nbconvert_exporter": "python",
   "pygments_lexer": "ipython3",
   "version": "3.12.5"
  }
 },
 "nbformat": 4,
 "nbformat_minor": 5
}
